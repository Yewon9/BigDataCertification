{
  "nbformat": 4,
  "nbformat_minor": 0,
  "metadata": {
    "colab": {
      "provenance": [],
      "toc_visible": true,
      "authorship_tag": "ABX9TyNN5t0T3nyFcu9x5APs2076",
      "include_colab_link": true
    },
    "kernelspec": {
      "name": "python3",
      "display_name": "Python 3"
    },
    "language_info": {
      "name": "python"
    }
  },
  "cells": [
    {
      "cell_type": "markdown",
      "metadata": {
        "id": "view-in-github",
        "colab_type": "text"
      },
      "source": [
        "<a href=\"https://colab.research.google.com/github/Yewon9/BigDataCertification/blob/main/%EB%B9%85%EB%B6%84%EA%B8%B0_%EC%8B%A4%EA%B8%B0_%EC%9D%B4%EA%B8%B0%EC%A0%81.ipynb\" target=\"_parent\"><img src=\"https://colab.research.google.com/assets/colab-badge.svg\" alt=\"Open In Colab\"/></a>"
      ]
    },
    {
      "cell_type": "code",
      "execution_count": null,
      "metadata": {
        "colab": {
          "base_uri": "https://localhost:8080/",
          "height": 1000
        },
        "id": "jcrdFXYNHETZ",
        "outputId": "7aed7813-58ea-4b6a-ba01-8b31a440589c"
      },
      "outputs": [
        {
          "output_type": "stream",
          "name": "stdout",
          "text": [
            "Collecting attrs==24.2.0 (from -r https://raw.githubusercontent.com/YoungjinBD/data/main/requirements.txt (line 1))\n",
            "  Downloading attrs-24.2.0-py3-none-any.whl.metadata (11 kB)\n",
            "Collecting autocommand==2.2.2 (from -r https://raw.githubusercontent.com/YoungjinBD/data/main/requirements.txt (line 2))\n",
            "  Downloading autocommand-2.2.2-py3-none-any.whl.metadata (15 kB)\n",
            "Requirement already satisfied: backports.tarfile==1.2.0 in /usr/local/lib/python3.11/dist-packages (from -r https://raw.githubusercontent.com/YoungjinBD/data/main/requirements.txt (line 3)) (1.2.0)\n",
            "Collecting beautifulsoup4==4.12.3 (from -r https://raw.githubusercontent.com/YoungjinBD/data/main/requirements.txt (line 4))\n",
            "  Downloading beautifulsoup4-4.12.3-py3-none-any.whl.metadata (3.8 kB)\n",
            "Collecting certifi==2024.8.30 (from -r https://raw.githubusercontent.com/YoungjinBD/data/main/requirements.txt (line 5))\n",
            "  Downloading certifi-2024.8.30-py3-none-any.whl.metadata (2.2 kB)\n",
            "Collecting contourpy==1.3.0 (from -r https://raw.githubusercontent.com/YoungjinBD/data/main/requirements.txt (line 6))\n",
            "  Downloading contourpy-1.3.0-cp311-cp311-manylinux_2_17_x86_64.manylinux2014_x86_64.whl.metadata (5.4 kB)\n",
            "Requirement already satisfied: cycler==0.12.1 in /usr/local/lib/python3.11/dist-packages (from -r https://raw.githubusercontent.com/YoungjinBD/data/main/requirements.txt (line 7)) (0.12.1)\n",
            "Collecting cython==3.0.11 (from -r https://raw.githubusercontent.com/YoungjinBD/data/main/requirements.txt (line 8))\n",
            "  Downloading Cython-3.0.11-cp311-cp311-manylinux_2_17_x86_64.manylinux2014_x86_64.whl.metadata (3.2 kB)\n",
            "Collecting distlib==0.3.9 (from -r https://raw.githubusercontent.com/YoungjinBD/data/main/requirements.txt (line 9))\n",
            "  Downloading distlib-0.3.9-py2.py3-none-any.whl.metadata (5.2 kB)\n",
            "Collecting fonttools==4.54.1 (from -r https://raw.githubusercontent.com/YoungjinBD/data/main/requirements.txt (line 10))\n",
            "  Downloading fonttools-4.54.1-cp311-cp311-manylinux_2_17_x86_64.manylinux2014_x86_64.whl.metadata (163 kB)\n",
            "\u001b[2K     \u001b[90m━━━━━━━━━━━━━━━━━━━━━━━━━━━━━━━━━━━━━━━\u001b[0m \u001b[32m163.7/163.7 kB\u001b[0m \u001b[31m2.5 MB/s\u001b[0m eta \u001b[36m0:00:00\u001b[0m\n",
            "\u001b[?25hCollecting h11==0.14.0 (from -r https://raw.githubusercontent.com/YoungjinBD/data/main/requirements.txt (line 11))\n",
            "  Downloading h11-0.14.0-py3-none-any.whl.metadata (8.2 kB)\n",
            "Requirement already satisfied: idna==3.10 in /usr/local/lib/python3.11/dist-packages (from -r https://raw.githubusercontent.com/YoungjinBD/data/main/requirements.txt (line 12)) (3.10)\n",
            "Collecting importlib-metadata==8.0.0 (from -r https://raw.githubusercontent.com/YoungjinBD/data/main/requirements.txt (line 13))\n",
            "  Downloading importlib_metadata-8.0.0-py3-none-any.whl.metadata (4.6 kB)\n",
            "Collecting importlib-resources==6.4.0 (from -r https://raw.githubusercontent.com/YoungjinBD/data/main/requirements.txt (line 14))\n",
            "  Downloading importlib_resources-6.4.0-py3-none-any.whl.metadata (3.9 kB)\n",
            "Collecting inflect==7.3.1 (from -r https://raw.githubusercontent.com/YoungjinBD/data/main/requirements.txt (line 15))\n",
            "  Downloading inflect-7.3.1-py3-none-any.whl.metadata (21 kB)\n",
            "Collecting joblib==1.4.2 (from -r https://raw.githubusercontent.com/YoungjinBD/data/main/requirements.txt (line 16))\n",
            "  Downloading joblib-1.4.2-py3-none-any.whl.metadata (5.4 kB)\n",
            "Collecting kiwisolver==1.4.7 (from -r https://raw.githubusercontent.com/YoungjinBD/data/main/requirements.txt (line 17))\n",
            "  Downloading kiwisolver-1.4.7-cp311-cp311-manylinux_2_17_x86_64.manylinux2014_x86_64.whl.metadata (6.3 kB)\n",
            "Requirement already satisfied: lightgbm==4.5.0 in /usr/local/lib/python3.11/dist-packages (from -r https://raw.githubusercontent.com/YoungjinBD/data/main/requirements.txt (line 18)) (4.5.0)\n",
            "Collecting matplotlib==3.9.2 (from -r https://raw.githubusercontent.com/YoungjinBD/data/main/requirements.txt (line 19))\n",
            "  Downloading matplotlib-3.9.2-cp311-cp311-manylinux_2_17_x86_64.manylinux2014_x86_64.whl.metadata (11 kB)\n",
            "Collecting more-itertools==10.3.0 (from -r https://raw.githubusercontent.com/YoungjinBD/data/main/requirements.txt (line 20))\n",
            "  Downloading more_itertools-10.3.0-py3-none-any.whl.metadata (36 kB)\n",
            "Collecting numpy==1.26.4 (from -r https://raw.githubusercontent.com/YoungjinBD/data/main/requirements.txt (line 21))\n",
            "  Downloading numpy-1.26.4-cp311-cp311-manylinux_2_17_x86_64.manylinux2014_x86_64.whl.metadata (61 kB)\n",
            "\u001b[2K     \u001b[90m━━━━━━━━━━━━━━━━━━━━━━━━━━━━━━━━━━━━━━━━\u001b[0m \u001b[32m61.0/61.0 kB\u001b[0m \u001b[31m2.3 MB/s\u001b[0m eta \u001b[36m0:00:00\u001b[0m\n",
            "\u001b[?25hCollecting outcome==1.3.0.post0 (from -r https://raw.githubusercontent.com/YoungjinBD/data/main/requirements.txt (line 22))\n",
            "  Downloading outcome-1.3.0.post0-py2.py3-none-any.whl.metadata (2.6 kB)\n",
            "Collecting packaging==24.1 (from -r https://raw.githubusercontent.com/YoungjinBD/data/main/requirements.txt (line 23))\n",
            "  Downloading packaging-24.1-py3-none-any.whl.metadata (3.2 kB)\n",
            "Requirement already satisfied: pandas==2.2.2 in /usr/local/lib/python3.11/dist-packages (from -r https://raw.githubusercontent.com/YoungjinBD/data/main/requirements.txt (line 24)) (2.2.2)\n",
            "Collecting pandas-flavor==0.6.0 (from -r https://raw.githubusercontent.com/YoungjinBD/data/main/requirements.txt (line 25))\n",
            "  Downloading pandas_flavor-0.6.0-py3-none-any.whl.metadata (6.3 kB)\n",
            "Collecting patsy==0.5.6 (from -r https://raw.githubusercontent.com/YoungjinBD/data/main/requirements.txt (line 26))\n",
            "  Downloading patsy-0.5.6-py2.py3-none-any.whl.metadata (3.5 kB)\n",
            "Collecting pillow==11.0.0 (from -r https://raw.githubusercontent.com/YoungjinBD/data/main/requirements.txt (line 27))\n",
            "  Downloading pillow-11.0.0-cp311-cp311-manylinux_2_28_x86_64.whl.metadata (9.1 kB)\n",
            "Collecting pingouin==0.5.5 (from -r https://raw.githubusercontent.com/YoungjinBD/data/main/requirements.txt (line 28))\n",
            "  Downloading pingouin-0.5.5-py3-none-any.whl.metadata (19 kB)\n",
            "Collecting pip==24.3.1 (from -r https://raw.githubusercontent.com/YoungjinBD/data/main/requirements.txt (line 29))\n",
            "  Downloading pip-24.3.1-py3-none-any.whl.metadata (3.7 kB)\n",
            "Collecting platformdirs==4.2.2 (from -r https://raw.githubusercontent.com/YoungjinBD/data/main/requirements.txt (line 30))\n",
            "  Downloading platformdirs-4.2.2-py3-none-any.whl.metadata (11 kB)\n",
            "Collecting pyparsing==3.2.0 (from -r https://raw.githubusercontent.com/YoungjinBD/data/main/requirements.txt (line 31))\n",
            "  Downloading pyparsing-3.2.0-py3-none-any.whl.metadata (5.0 kB)\n",
            "Requirement already satisfied: pysocks==1.7.1 in /usr/local/lib/python3.11/dist-packages (from -r https://raw.githubusercontent.com/YoungjinBD/data/main/requirements.txt (line 32)) (1.7.1)\n",
            "Requirement already satisfied: python-dateutil==2.9.0.post0 in /usr/local/lib/python3.11/dist-packages (from -r https://raw.githubusercontent.com/YoungjinBD/data/main/requirements.txt (line 33)) (2.9.0.post0)\n",
            "Collecting pytz==2024.2 (from -r https://raw.githubusercontent.com/YoungjinBD/data/main/requirements.txt (line 34))\n",
            "  Downloading pytz-2024.2-py2.py3-none-any.whl.metadata (22 kB)\n",
            "Collecting scikit-learn==1.5.2 (from -r https://raw.githubusercontent.com/YoungjinBD/data/main/requirements.txt (line 35))\n",
            "  Downloading scikit_learn-1.5.2-cp311-cp311-manylinux_2_17_x86_64.manylinux2014_x86_64.whl.metadata (13 kB)\n",
            "Collecting scipy==1.14.1 (from -r https://raw.githubusercontent.com/YoungjinBD/data/main/requirements.txt (line 36))\n",
            "  Downloading scipy-1.14.1-cp311-cp311-manylinux_2_17_x86_64.manylinux2014_x86_64.whl.metadata (60 kB)\n",
            "\u001b[2K     \u001b[90m━━━━━━━━━━━━━━━━━━━━━━━━━━━━━━━━━━━━━━━━\u001b[0m \u001b[32m60.8/60.8 kB\u001b[0m \u001b[31m2.4 MB/s\u001b[0m eta \u001b[36m0:00:00\u001b[0m\n",
            "\u001b[?25hRequirement already satisfied: seaborn==0.13.2 in /usr/local/lib/python3.11/dist-packages (from -r https://raw.githubusercontent.com/YoungjinBD/data/main/requirements.txt (line 37)) (0.13.2)\n",
            "Collecting selenium==4.26.1 (from -r https://raw.githubusercontent.com/YoungjinBD/data/main/requirements.txt (line 38))\n",
            "  Downloading selenium-4.26.1-py3-none-any.whl.metadata (7.1 kB)\n",
            "Collecting setuptools==75.3.0 (from -r https://raw.githubusercontent.com/YoungjinBD/data/main/requirements.txt (line 39))\n",
            "  Downloading setuptools-75.3.0-py3-none-any.whl.metadata (6.9 kB)\n",
            "Collecting six==1.16.0 (from -r https://raw.githubusercontent.com/YoungjinBD/data/main/requirements.txt (line 40))\n",
            "  Downloading six-1.16.0-py2.py3-none-any.whl.metadata (1.8 kB)\n",
            "Requirement already satisfied: sniffio==1.3.1 in /usr/local/lib/python3.11/dist-packages (from -r https://raw.githubusercontent.com/YoungjinBD/data/main/requirements.txt (line 41)) (1.3.1)\n",
            "Requirement already satisfied: sortedcontainers==2.4.0 in /usr/local/lib/python3.11/dist-packages (from -r https://raw.githubusercontent.com/YoungjinBD/data/main/requirements.txt (line 42)) (2.4.0)\n",
            "Collecting statsmodels==0.14.1 (from -r https://raw.githubusercontent.com/YoungjinBD/data/main/requirements.txt (line 43))\n",
            "  Downloading statsmodels-0.14.1-cp311-cp311-manylinux_2_17_x86_64.manylinux2014_x86_64.whl.metadata (9.5 kB)\n",
            "Requirement already satisfied: tabulate==0.9.0 in /usr/local/lib/python3.11/dist-packages (from -r https://raw.githubusercontent.com/YoungjinBD/data/main/requirements.txt (line 44)) (0.9.0)\n",
            "Collecting threadpoolctl==3.5.0 (from -r https://raw.githubusercontent.com/YoungjinBD/data/main/requirements.txt (line 45))\n",
            "  Downloading threadpoolctl-3.5.0-py3-none-any.whl.metadata (13 kB)\n",
            "Collecting tomli==2.0.1 (from -r https://raw.githubusercontent.com/YoungjinBD/data/main/requirements.txt (line 46))\n",
            "  Downloading tomli-2.0.1-py3-none-any.whl.metadata (8.9 kB)\n",
            "Collecting trio==0.27.0 (from -r https://raw.githubusercontent.com/YoungjinBD/data/main/requirements.txt (line 47))\n",
            "  Downloading trio-0.27.0-py3-none-any.whl.metadata (8.6 kB)\n",
            "Collecting trio-websocket==0.11.1 (from -r https://raw.githubusercontent.com/YoungjinBD/data/main/requirements.txt (line 48))\n",
            "  Downloading trio_websocket-0.11.1-py3-none-any.whl.metadata (4.7 kB)\n",
            "Collecting typeguard==4.3.0 (from -r https://raw.githubusercontent.com/YoungjinBD/data/main/requirements.txt (line 49))\n",
            "  Downloading typeguard-4.3.0-py3-none-any.whl.metadata (3.7 kB)\n",
            "Collecting typing-extensions==4.12.2 (from -r https://raw.githubusercontent.com/YoungjinBD/data/main/requirements.txt (line 50))\n",
            "  Downloading typing_extensions-4.12.2-py3-none-any.whl.metadata (3.0 kB)\n",
            "Collecting urllib3==2.2.3 (from -r https://raw.githubusercontent.com/YoungjinBD/data/main/requirements.txt (line 51))\n",
            "  Downloading urllib3-2.2.3-py3-none-any.whl.metadata (6.5 kB)\n",
            "Requirement already satisfied: websocket-client==1.8.0 in /usr/local/lib/python3.11/dist-packages (from -r https://raw.githubusercontent.com/YoungjinBD/data/main/requirements.txt (line 52)) (1.8.0)\n",
            "Collecting wheel==0.44.0 (from -r https://raw.githubusercontent.com/YoungjinBD/data/main/requirements.txt (line 53))\n",
            "  Downloading wheel-0.44.0-py3-none-any.whl.metadata (2.3 kB)\n",
            "Collecting wsproto==1.2.0 (from -r https://raw.githubusercontent.com/YoungjinBD/data/main/requirements.txt (line 54))\n",
            "  Downloading wsproto-1.2.0-py3-none-any.whl.metadata (5.6 kB)\n",
            "Collecting xarray==2024.10.0 (from -r https://raw.githubusercontent.com/YoungjinBD/data/main/requirements.txt (line 55))\n",
            "  Downloading xarray-2024.10.0-py3-none-any.whl.metadata (11 kB)\n",
            "Collecting xgboost==2.1.2 (from -r https://raw.githubusercontent.com/YoungjinBD/data/main/requirements.txt (line 56))\n",
            "  Downloading xgboost-2.1.2-py3-none-manylinux_2_28_x86_64.whl.metadata (2.1 kB)\n",
            "Collecting zipp==3.19.2 (from -r https://raw.githubusercontent.com/YoungjinBD/data/main/requirements.txt (line 57))\n",
            "  Downloading zipp-3.19.2-py3-none-any.whl.metadata (3.6 kB)\n",
            "Requirement already satisfied: soupsieve>1.2 in /usr/local/lib/python3.11/dist-packages (from beautifulsoup4==4.12.3->-r https://raw.githubusercontent.com/YoungjinBD/data/main/requirements.txt (line 4)) (2.7)\n",
            "Requirement already satisfied: tzdata>=2022.7 in /usr/local/lib/python3.11/dist-packages (from pandas==2.2.2->-r https://raw.githubusercontent.com/YoungjinBD/data/main/requirements.txt (line 24)) (2025.2)\n",
            "Requirement already satisfied: nvidia-nccl-cu12 in /usr/local/lib/python3.11/dist-packages (from xgboost==2.1.2->-r https://raw.githubusercontent.com/YoungjinBD/data/main/requirements.txt (line 56)) (2.21.5)\n",
            "Downloading attrs-24.2.0-py3-none-any.whl (63 kB)\n",
            "\u001b[2K   \u001b[90m━━━━━━━━━━━━━━━━━━━━━━━━━━━━━━━━━━━━━━━━\u001b[0m \u001b[32m63.0/63.0 kB\u001b[0m \u001b[31m2.0 MB/s\u001b[0m eta \u001b[36m0:00:00\u001b[0m\n",
            "\u001b[?25hDownloading autocommand-2.2.2-py3-none-any.whl (19 kB)\n",
            "Downloading beautifulsoup4-4.12.3-py3-none-any.whl (147 kB)\n",
            "\u001b[2K   \u001b[90m━━━━━━━━━━━━━━━━━━━━━━━━━━━━━━━━━━━━━━━━\u001b[0m \u001b[32m147.9/147.9 kB\u001b[0m \u001b[31m8.9 MB/s\u001b[0m eta \u001b[36m0:00:00\u001b[0m\n",
            "\u001b[?25hDownloading certifi-2024.8.30-py3-none-any.whl (167 kB)\n",
            "\u001b[2K   \u001b[90m━━━━━━━━━━━━━━━━━━━━━━━━━━━━━━━━━━━━━━━━\u001b[0m \u001b[32m167.3/167.3 kB\u001b[0m \u001b[31m8.5 MB/s\u001b[0m eta \u001b[36m0:00:00\u001b[0m\n",
            "\u001b[?25hDownloading contourpy-1.3.0-cp311-cp311-manylinux_2_17_x86_64.manylinux2014_x86_64.whl (323 kB)\n",
            "\u001b[2K   \u001b[90m━━━━━━━━━━━━━━━━━━━━━━━━━━━━━━━━━━━━━━━━\u001b[0m \u001b[32m323.2/323.2 kB\u001b[0m \u001b[31m1.8 MB/s\u001b[0m eta \u001b[36m0:00:00\u001b[0m\n",
            "\u001b[?25hDownloading Cython-3.0.11-cp311-cp311-manylinux_2_17_x86_64.manylinux2014_x86_64.whl (3.6 MB)\n",
            "\u001b[2K   \u001b[90m━━━━━━━━━━━━━━━━━━━━━━━━━━━━━━━━━━━━━━━━\u001b[0m \u001b[32m3.6/3.6 MB\u001b[0m \u001b[31m16.8 MB/s\u001b[0m eta \u001b[36m0:00:00\u001b[0m\n",
            "\u001b[?25hDownloading distlib-0.3.9-py2.py3-none-any.whl (468 kB)\n",
            "\u001b[2K   \u001b[90m━━━━━━━━━━━━━━━━━━━━━━━━━━━━━━━━━━━━━━━━\u001b[0m \u001b[32m469.0/469.0 kB\u001b[0m \u001b[31m12.4 MB/s\u001b[0m eta \u001b[36m0:00:00\u001b[0m\n",
            "\u001b[?25hDownloading fonttools-4.54.1-cp311-cp311-manylinux_2_17_x86_64.manylinux2014_x86_64.whl (4.9 MB)\n",
            "\u001b[2K   \u001b[90m━━━━━━━━━━━━━━━━━━━━━━━━━━━━━━━━━━━━━━━━\u001b[0m \u001b[32m4.9/4.9 MB\u001b[0m \u001b[31m14.8 MB/s\u001b[0m eta \u001b[36m0:00:00\u001b[0m\n",
            "\u001b[?25hDownloading h11-0.14.0-py3-none-any.whl (58 kB)\n",
            "\u001b[2K   \u001b[90m━━━━━━━━━━━━━━━━━━━━━━━━━━━━━━━━━━━━━━━━\u001b[0m \u001b[32m58.3/58.3 kB\u001b[0m \u001b[31m1.8 MB/s\u001b[0m eta \u001b[36m0:00:00\u001b[0m\n",
            "\u001b[?25hDownloading importlib_metadata-8.0.0-py3-none-any.whl (24 kB)\n",
            "Downloading importlib_resources-6.4.0-py3-none-any.whl (38 kB)\n",
            "Downloading inflect-7.3.1-py3-none-any.whl (34 kB)\n",
            "Downloading joblib-1.4.2-py3-none-any.whl (301 kB)\n",
            "\u001b[2K   \u001b[90m━━━━━━━━━━━━━━━━━━━━━━━━━━━━━━━━━━━━━━━━\u001b[0m \u001b[32m301.8/301.8 kB\u001b[0m \u001b[31m10.5 MB/s\u001b[0m eta \u001b[36m0:00:00\u001b[0m\n",
            "\u001b[?25hDownloading kiwisolver-1.4.7-cp311-cp311-manylinux_2_17_x86_64.manylinux2014_x86_64.whl (1.4 MB)\n",
            "\u001b[2K   \u001b[90m━━━━━━━━━━━━━━━━━━━━━━━━━━━━━━━━━━━━━━━━\u001b[0m \u001b[32m1.4/1.4 MB\u001b[0m \u001b[31m16.4 MB/s\u001b[0m eta \u001b[36m0:00:00\u001b[0m\n",
            "\u001b[?25hDownloading matplotlib-3.9.2-cp311-cp311-manylinux_2_17_x86_64.manylinux2014_x86_64.whl (8.3 MB)\n",
            "\u001b[2K   \u001b[90m━━━━━━━━━━━━━━━━━━━━━━━━━━━━━━━━━━━━━━━━\u001b[0m \u001b[32m8.3/8.3 MB\u001b[0m \u001b[31m19.5 MB/s\u001b[0m eta \u001b[36m0:00:00\u001b[0m\n",
            "\u001b[?25hDownloading more_itertools-10.3.0-py3-none-any.whl (59 kB)\n",
            "\u001b[2K   \u001b[90m━━━━━━━━━━━━━━━━━━━━━━━━━━━━━━━━━━━━━━━━\u001b[0m \u001b[32m59.2/59.2 kB\u001b[0m \u001b[31m2.8 MB/s\u001b[0m eta \u001b[36m0:00:00\u001b[0m\n",
            "\u001b[?25hDownloading numpy-1.26.4-cp311-cp311-manylinux_2_17_x86_64.manylinux2014_x86_64.whl (18.3 MB)\n",
            "\u001b[2K   \u001b[90m━━━━━━━━━━━━━━━━━━━━━━━━━━━━━━━━━━━━━━━━\u001b[0m \u001b[32m18.3/18.3 MB\u001b[0m \u001b[31m19.0 MB/s\u001b[0m eta \u001b[36m0:00:00\u001b[0m\n",
            "\u001b[?25hDownloading outcome-1.3.0.post0-py2.py3-none-any.whl (10 kB)\n",
            "Downloading packaging-24.1-py3-none-any.whl (53 kB)\n",
            "\u001b[2K   \u001b[90m━━━━━━━━━━━━━━━━━━━━━━━━━━━━━━━━━━━━━━━━\u001b[0m \u001b[32m54.0/54.0 kB\u001b[0m \u001b[31m2.8 MB/s\u001b[0m eta \u001b[36m0:00:00\u001b[0m\n",
            "\u001b[?25hDownloading pandas_flavor-0.6.0-py3-none-any.whl (7.2 kB)\n",
            "Downloading patsy-0.5.6-py2.py3-none-any.whl (233 kB)\n",
            "\u001b[2K   \u001b[90m━━━━━━━━━━━━━━━━━━━━━━━━━━━━━━━━━━━━━━━━\u001b[0m \u001b[32m233.9/233.9 kB\u001b[0m \u001b[31m13.4 MB/s\u001b[0m eta \u001b[36m0:00:00\u001b[0m\n",
            "\u001b[?25hDownloading pillow-11.0.0-cp311-cp311-manylinux_2_28_x86_64.whl (4.4 MB)\n",
            "\u001b[2K   \u001b[90m━━━━━━━━━━━━━━━━━━━━━━━━━━━━━━━━━━━━━━━━\u001b[0m \u001b[32m4.4/4.4 MB\u001b[0m \u001b[31m21.3 MB/s\u001b[0m eta \u001b[36m0:00:00\u001b[0m\n",
            "\u001b[?25hDownloading pingouin-0.5.5-py3-none-any.whl (204 kB)\n",
            "\u001b[2K   \u001b[90m━━━━━━━━━━━━━━━━━━━━━━━━━━━━━━━━━━━━━━━━\u001b[0m \u001b[32m204.4/204.4 kB\u001b[0m \u001b[31m12.3 MB/s\u001b[0m eta \u001b[36m0:00:00\u001b[0m\n",
            "\u001b[?25hDownloading pip-24.3.1-py3-none-any.whl (1.8 MB)\n",
            "\u001b[2K   \u001b[90m━━━━━━━━━━━━━━━━━━━━━━━━━━━━━━━━━━━━━━━━\u001b[0m \u001b[32m1.8/1.8 MB\u001b[0m \u001b[31m20.2 MB/s\u001b[0m eta \u001b[36m0:00:00\u001b[0m\n",
            "\u001b[?25hDownloading platformdirs-4.2.2-py3-none-any.whl (18 kB)\n",
            "Downloading pyparsing-3.2.0-py3-none-any.whl (106 kB)\n",
            "\u001b[2K   \u001b[90m━━━━━━━━━━━━━━━━━━━━━━━━━━━━━━━━━━━━━━━━\u001b[0m \u001b[32m106.9/106.9 kB\u001b[0m \u001b[31m6.4 MB/s\u001b[0m eta \u001b[36m0:00:00\u001b[0m\n",
            "\u001b[?25hDownloading pytz-2024.2-py2.py3-none-any.whl (508 kB)\n",
            "\u001b[2K   \u001b[90m━━━━━━━━━━━━━━━━━━━━━━━━━━━━━━━━━━━━━━━━\u001b[0m \u001b[32m508.0/508.0 kB\u001b[0m \u001b[31m16.1 MB/s\u001b[0m eta \u001b[36m0:00:00\u001b[0m\n",
            "\u001b[?25hDownloading scikit_learn-1.5.2-cp311-cp311-manylinux_2_17_x86_64.manylinux2014_x86_64.whl (13.3 MB)\n",
            "\u001b[2K   \u001b[90m━━━━━━━━━━━━━━━━━━━━━━━━━━━━━━━━━━━━━━━━\u001b[0m \u001b[32m13.3/13.3 MB\u001b[0m \u001b[31m24.5 MB/s\u001b[0m eta \u001b[36m0:00:00\u001b[0m\n",
            "\u001b[?25hDownloading scipy-1.14.1-cp311-cp311-manylinux_2_17_x86_64.manylinux2014_x86_64.whl (41.2 MB)\n",
            "\u001b[2K   \u001b[90m━━━━━━━━━━━━━━━━━━━━━━━━━━━━━━━━━━━━━━━━\u001b[0m \u001b[32m41.2/41.2 MB\u001b[0m \u001b[31m20.3 MB/s\u001b[0m eta \u001b[36m0:00:00\u001b[0m\n",
            "\u001b[?25hDownloading selenium-4.26.1-py3-none-any.whl (9.7 MB)\n",
            "\u001b[2K   \u001b[90m━━━━━━━━━━━━━━━━━━━━━━━━━━━━━━━━━━━━━━━━\u001b[0m \u001b[32m9.7/9.7 MB\u001b[0m \u001b[31m30.8 MB/s\u001b[0m eta \u001b[36m0:00:00\u001b[0m\n",
            "\u001b[?25hDownloading setuptools-75.3.0-py3-none-any.whl (1.3 MB)\n",
            "\u001b[2K   \u001b[90m━━━━━━━━━━━━━━━━━━━━━━━━━━━━━━━━━━━━━━━━\u001b[0m \u001b[32m1.3/1.3 MB\u001b[0m \u001b[31m25.0 MB/s\u001b[0m eta \u001b[36m0:00:00\u001b[0m\n",
            "\u001b[?25hDownloading six-1.16.0-py2.py3-none-any.whl (11 kB)\n",
            "Downloading statsmodels-0.14.1-cp311-cp311-manylinux_2_17_x86_64.manylinux2014_x86_64.whl (10.8 MB)\n",
            "\u001b[2K   \u001b[90m━━━━━━━━━━━━━━━━━━━━━━━━━━━━━━━━━━━━━━━━\u001b[0m \u001b[32m10.8/10.8 MB\u001b[0m \u001b[31m29.4 MB/s\u001b[0m eta \u001b[36m0:00:00\u001b[0m\n",
            "\u001b[?25hDownloading threadpoolctl-3.5.0-py3-none-any.whl (18 kB)\n",
            "Downloading tomli-2.0.1-py3-none-any.whl (12 kB)\n",
            "Downloading trio-0.27.0-py3-none-any.whl (481 kB)\n",
            "\u001b[2K   \u001b[90m━━━━━━━━━━━━━━━━━━━━━━━━━━━━━━━━━━━━━━━━\u001b[0m \u001b[32m481.7/481.7 kB\u001b[0m \u001b[31m24.4 MB/s\u001b[0m eta \u001b[36m0:00:00\u001b[0m\n",
            "\u001b[?25hDownloading trio_websocket-0.11.1-py3-none-any.whl (17 kB)\n",
            "Downloading typeguard-4.3.0-py3-none-any.whl (35 kB)\n",
            "Downloading typing_extensions-4.12.2-py3-none-any.whl (37 kB)\n",
            "Downloading urllib3-2.2.3-py3-none-any.whl (126 kB)\n",
            "\u001b[2K   \u001b[90m━━━━━━━━━━━━━━━━━━━━━━━━━━━━━━━━━━━━━━━━\u001b[0m \u001b[32m126.3/126.3 kB\u001b[0m \u001b[31m8.9 MB/s\u001b[0m eta \u001b[36m0:00:00\u001b[0m\n",
            "\u001b[?25hDownloading wheel-0.44.0-py3-none-any.whl (67 kB)\n",
            "\u001b[2K   \u001b[90m━━━━━━━━━━━━━━━━━━━━━━━━━━━━━━━━━━━━━━━━\u001b[0m \u001b[32m67.1/67.1 kB\u001b[0m \u001b[31m4.3 MB/s\u001b[0m eta \u001b[36m0:00:00\u001b[0m\n",
            "\u001b[?25hDownloading wsproto-1.2.0-py3-none-any.whl (24 kB)\n",
            "Downloading xarray-2024.10.0-py3-none-any.whl (1.2 MB)\n",
            "\u001b[2K   \u001b[90m━━━━━━━━━━━━━━━━━━━━━━━━━━━━━━━━━━━━━━━━\u001b[0m \u001b[32m1.2/1.2 MB\u001b[0m \u001b[31m25.4 MB/s\u001b[0m eta \u001b[36m0:00:00\u001b[0m\n",
            "\u001b[?25hDownloading xgboost-2.1.2-py3-none-manylinux_2_28_x86_64.whl (153.9 MB)\n",
            "\u001b[2K   \u001b[90m━━━━━━━━━━━━━━━━━━━━━━━━━━━━━━━━━━━━━━━━\u001b[0m \u001b[32m153.9/153.9 MB\u001b[0m \u001b[31m7.3 MB/s\u001b[0m eta \u001b[36m0:00:00\u001b[0m\n",
            "\u001b[?25hDownloading zipp-3.19.2-py3-none-any.whl (9.0 kB)\n",
            "Installing collected packages: pytz, distlib, zipp, wheel, urllib3, typing-extensions, tomli, threadpoolctl, six, setuptools, pyparsing, platformdirs, pip, pillow, packaging, numpy, more-itertools, kiwisolver, joblib, importlib-resources, h11, fonttools, cython, certifi, beautifulsoup4, autocommand, attrs, wsproto, typeguard, scipy, patsy, outcome, importlib-metadata, contourpy, xgboost, trio, scikit-learn, matplotlib, inflect, xarray, trio-websocket, statsmodels, selenium, pandas-flavor, pingouin\n",
            "  Attempting uninstall: pytz\n",
            "    Found existing installation: pytz 2025.2\n",
            "    Uninstalling pytz-2025.2:\n",
            "      Successfully uninstalled pytz-2025.2\n",
            "  Attempting uninstall: zipp\n",
            "    Found existing installation: zipp 3.21.0\n",
            "    Uninstalling zipp-3.21.0:\n",
            "      Successfully uninstalled zipp-3.21.0\n",
            "  Attempting uninstall: wheel\n",
            "    Found existing installation: wheel 0.45.1\n",
            "    Uninstalling wheel-0.45.1:\n",
            "      Successfully uninstalled wheel-0.45.1\n",
            "  Attempting uninstall: urllib3\n",
            "    Found existing installation: urllib3 2.4.0\n",
            "    Uninstalling urllib3-2.4.0:\n",
            "      Successfully uninstalled urllib3-2.4.0\n",
            "  Attempting uninstall: typing-extensions\n",
            "    Found existing installation: typing_extensions 4.13.2\n",
            "    Uninstalling typing_extensions-4.13.2:\n",
            "      Successfully uninstalled typing_extensions-4.13.2\n",
            "  Attempting uninstall: threadpoolctl\n",
            "    Found existing installation: threadpoolctl 3.6.0\n",
            "    Uninstalling threadpoolctl-3.6.0:\n",
            "      Successfully uninstalled threadpoolctl-3.6.0\n",
            "  Attempting uninstall: six\n",
            "    Found existing installation: six 1.17.0\n",
            "    Uninstalling six-1.17.0:\n",
            "      Successfully uninstalled six-1.17.0\n",
            "  Attempting uninstall: setuptools\n",
            "    Found existing installation: setuptools 75.2.0\n",
            "    Uninstalling setuptools-75.2.0:\n",
            "      Successfully uninstalled setuptools-75.2.0\n",
            "  Attempting uninstall: pyparsing\n",
            "    Found existing installation: pyparsing 3.2.3\n",
            "    Uninstalling pyparsing-3.2.3:\n",
            "      Successfully uninstalled pyparsing-3.2.3\n",
            "  Attempting uninstall: platformdirs\n",
            "    Found existing installation: platformdirs 4.3.8\n",
            "    Uninstalling platformdirs-4.3.8:\n",
            "      Successfully uninstalled platformdirs-4.3.8\n",
            "  Attempting uninstall: pip\n",
            "    Found existing installation: pip 24.1.2\n",
            "    Uninstalling pip-24.1.2:\n",
            "      Successfully uninstalled pip-24.1.2\n",
            "  Attempting uninstall: pillow\n",
            "    Found existing installation: pillow 11.2.1\n",
            "    Uninstalling pillow-11.2.1:\n",
            "      Successfully uninstalled pillow-11.2.1\n",
            "  Attempting uninstall: packaging\n",
            "    Found existing installation: packaging 24.2\n",
            "    Uninstalling packaging-24.2:\n",
            "      Successfully uninstalled packaging-24.2\n",
            "  Attempting uninstall: numpy\n",
            "    Found existing installation: numpy 2.0.2\n",
            "    Uninstalling numpy-2.0.2:\n",
            "      Successfully uninstalled numpy-2.0.2\n",
            "  Attempting uninstall: more-itertools\n",
            "    Found existing installation: more-itertools 10.7.0\n",
            "    Uninstalling more-itertools-10.7.0:\n",
            "      Successfully uninstalled more-itertools-10.7.0\n",
            "  Attempting uninstall: kiwisolver\n",
            "    Found existing installation: kiwisolver 1.4.8\n",
            "    Uninstalling kiwisolver-1.4.8:\n",
            "      Successfully uninstalled kiwisolver-1.4.8\n",
            "  Attempting uninstall: joblib\n",
            "    Found existing installation: joblib 1.5.0\n",
            "    Uninstalling joblib-1.5.0:\n",
            "      Successfully uninstalled joblib-1.5.0\n",
            "  Attempting uninstall: importlib-resources\n",
            "    Found existing installation: importlib_resources 6.5.2\n",
            "    Uninstalling importlib_resources-6.5.2:\n",
            "      Successfully uninstalled importlib_resources-6.5.2\n",
            "  Attempting uninstall: h11\n",
            "    Found existing installation: h11 0.16.0\n",
            "    Uninstalling h11-0.16.0:\n",
            "      Successfully uninstalled h11-0.16.0\n",
            "  Attempting uninstall: fonttools\n",
            "    Found existing installation: fonttools 4.58.0\n",
            "    Uninstalling fonttools-4.58.0:\n",
            "      Successfully uninstalled fonttools-4.58.0\n",
            "  Attempting uninstall: cython\n",
            "    Found existing installation: Cython 3.0.12\n",
            "    Uninstalling Cython-3.0.12:\n",
            "      Successfully uninstalled Cython-3.0.12\n",
            "  Attempting uninstall: certifi\n",
            "    Found existing installation: certifi 2025.4.26\n",
            "    Uninstalling certifi-2025.4.26:\n",
            "      Successfully uninstalled certifi-2025.4.26\n",
            "  Attempting uninstall: beautifulsoup4\n",
            "    Found existing installation: beautifulsoup4 4.13.4\n",
            "    Uninstalling beautifulsoup4-4.13.4:\n",
            "      Successfully uninstalled beautifulsoup4-4.13.4\n",
            "  Attempting uninstall: attrs\n",
            "    Found existing installation: attrs 25.3.0\n",
            "    Uninstalling attrs-25.3.0:\n",
            "      Successfully uninstalled attrs-25.3.0\n",
            "  Attempting uninstall: typeguard\n",
            "    Found existing installation: typeguard 4.4.2\n",
            "    Uninstalling typeguard-4.4.2:\n",
            "      Successfully uninstalled typeguard-4.4.2\n",
            "  Attempting uninstall: scipy\n",
            "    Found existing installation: scipy 1.15.3\n",
            "    Uninstalling scipy-1.15.3:\n",
            "      Successfully uninstalled scipy-1.15.3\n",
            "  Attempting uninstall: patsy\n",
            "    Found existing installation: patsy 1.0.1\n",
            "    Uninstalling patsy-1.0.1:\n",
            "      Successfully uninstalled patsy-1.0.1\n",
            "  Attempting uninstall: importlib-metadata\n",
            "    Found existing installation: importlib_metadata 8.7.0\n",
            "    Uninstalling importlib_metadata-8.7.0:\n",
            "      Successfully uninstalled importlib_metadata-8.7.0\n",
            "  Attempting uninstall: contourpy\n",
            "    Found existing installation: contourpy 1.3.2\n",
            "    Uninstalling contourpy-1.3.2:\n",
            "      Successfully uninstalled contourpy-1.3.2\n",
            "  Attempting uninstall: xgboost\n",
            "    Found existing installation: xgboost 2.1.4\n",
            "    Uninstalling xgboost-2.1.4:\n",
            "      Successfully uninstalled xgboost-2.1.4\n",
            "  Attempting uninstall: scikit-learn\n",
            "    Found existing installation: scikit-learn 1.6.1\n",
            "    Uninstalling scikit-learn-1.6.1:\n",
            "      Successfully uninstalled scikit-learn-1.6.1\n",
            "  Attempting uninstall: matplotlib\n",
            "    Found existing installation: matplotlib 3.10.0\n",
            "    Uninstalling matplotlib-3.10.0:\n",
            "      Successfully uninstalled matplotlib-3.10.0\n",
            "  Attempting uninstall: inflect\n",
            "    Found existing installation: inflect 7.5.0\n",
            "    Uninstalling inflect-7.5.0:\n",
            "      Successfully uninstalled inflect-7.5.0\n",
            "  Attempting uninstall: xarray\n",
            "    Found existing installation: xarray 2025.3.1\n",
            "    Uninstalling xarray-2025.3.1:\n",
            "      Successfully uninstalled xarray-2025.3.1\n",
            "  Attempting uninstall: statsmodels\n",
            "    Found existing installation: statsmodels 0.14.4\n",
            "    Uninstalling statsmodels-0.14.4:\n",
            "      Successfully uninstalled statsmodels-0.14.4\n",
            "\u001b[31mERROR: pip's dependency resolver does not currently take into account all the packages that are installed. This behaviour is the source of the following dependency conflicts.\n",
            "ipython 7.34.0 requires jedi>=0.16, which is not installed.\n",
            "torch 2.6.0+cu124 requires nvidia-cublas-cu12==12.4.5.8; platform_system == \"Linux\" and platform_machine == \"x86_64\", but you have nvidia-cublas-cu12 12.5.3.2 which is incompatible.\n",
            "torch 2.6.0+cu124 requires nvidia-cuda-cupti-cu12==12.4.127; platform_system == \"Linux\" and platform_machine == \"x86_64\", but you have nvidia-cuda-cupti-cu12 12.5.82 which is incompatible.\n",
            "torch 2.6.0+cu124 requires nvidia-cuda-nvrtc-cu12==12.4.127; platform_system == \"Linux\" and platform_machine == \"x86_64\", but you have nvidia-cuda-nvrtc-cu12 12.5.82 which is incompatible.\n",
            "torch 2.6.0+cu124 requires nvidia-cuda-runtime-cu12==12.4.127; platform_system == \"Linux\" and platform_machine == \"x86_64\", but you have nvidia-cuda-runtime-cu12 12.5.82 which is incompatible.\n",
            "torch 2.6.0+cu124 requires nvidia-cudnn-cu12==9.1.0.70; platform_system == \"Linux\" and platform_machine == \"x86_64\", but you have nvidia-cudnn-cu12 9.3.0.75 which is incompatible.\n",
            "torch 2.6.0+cu124 requires nvidia-cufft-cu12==11.2.1.3; platform_system == \"Linux\" and platform_machine == \"x86_64\", but you have nvidia-cufft-cu12 11.2.3.61 which is incompatible.\n",
            "torch 2.6.0+cu124 requires nvidia-curand-cu12==10.3.5.147; platform_system == \"Linux\" and platform_machine == \"x86_64\", but you have nvidia-curand-cu12 10.3.6.82 which is incompatible.\n",
            "torch 2.6.0+cu124 requires nvidia-cusolver-cu12==11.6.1.9; platform_system == \"Linux\" and platform_machine == \"x86_64\", but you have nvidia-cusolver-cu12 11.6.3.83 which is incompatible.\n",
            "torch 2.6.0+cu124 requires nvidia-cusparse-cu12==12.3.1.170; platform_system == \"Linux\" and platform_machine == \"x86_64\", but you have nvidia-cusparse-cu12 12.5.1.3 which is incompatible.\n",
            "torch 2.6.0+cu124 requires nvidia-nvjitlink-cu12==12.4.127; platform_system == \"Linux\" and platform_machine == \"x86_64\", but you have nvidia-nvjitlink-cu12 12.5.82 which is incompatible.\n",
            "google-cloud-bigquery 3.32.0 requires packaging>=24.2.0, but you have packaging 24.1 which is incompatible.\n",
            "httpcore 1.0.9 requires h11>=0.16, but you have h11 0.14.0 which is incompatible.\n",
            "thinc 8.3.6 requires numpy<3.0.0,>=2.0.0, but you have numpy 1.26.4 which is incompatible.\n",
            "db-dtypes 1.4.3 requires packaging>=24.2.0, but you have packaging 24.1 which is incompatible.\u001b[0m\u001b[31m\n",
            "\u001b[0mSuccessfully installed attrs-24.2.0 autocommand-2.2.2 beautifulsoup4-4.12.3 certifi-2024.8.30 contourpy-1.3.0 cython-3.0.11 distlib-0.3.9 fonttools-4.54.1 h11-0.14.0 importlib-metadata-8.0.0 importlib-resources-6.4.0 inflect-7.3.1 joblib-1.4.2 kiwisolver-1.4.7 matplotlib-3.9.2 more-itertools-10.3.0 numpy-1.26.4 outcome-1.3.0.post0 packaging-24.1 pandas-flavor-0.6.0 patsy-0.5.6 pillow-11.0.0 pingouin-0.5.5 pip-24.3.1 platformdirs-4.2.2 pyparsing-3.2.0 pytz-2024.2 scikit-learn-1.5.2 scipy-1.14.1 selenium-4.26.1 setuptools-75.3.0 six-1.16.0 statsmodels-0.14.1 threadpoolctl-3.5.0 tomli-2.0.1 trio-0.27.0 trio-websocket-0.11.1 typeguard-4.3.0 typing-extensions-4.12.2 urllib3-2.2.3 wheel-0.44.0 wsproto-1.2.0 xarray-2024.10.0 xgboost-2.1.2 zipp-3.19.2\n"
          ]
        },
        {
          "output_type": "display_data",
          "data": {
            "application/vnd.colab-display-data+json": {
              "pip_warning": {
                "packages": [
                  "PIL",
                  "_distutils_hack",
                  "certifi",
                  "importlib_metadata",
                  "kiwisolver",
                  "pkg_resources",
                  "six",
                  "zipp"
                ]
              },
              "id": "eecb5d42d6a5469f8a9ff0c4007f4f8c"
            }
          },
          "metadata": {}
        }
      ],
      "source": [
        "# !pip install -r https://raw.githubusercontent.com/YoungjinBD/data/main/requirements.txt"
      ]
    },
    {
      "cell_type": "markdown",
      "source": [
        "# Python 기초와 데이터 구조"
      ],
      "metadata": {
        "id": "987vKmewItf-"
      }
    },
    {
      "cell_type": "markdown",
      "source": [
        "\n",
        "## 변수와 연산"
      ],
      "metadata": {
        "id": "j_qZ2fboIv4o"
      }
    },
    {
      "cell_type": "code",
      "source": [
        "# 변수에 값을 할당\n",
        "number = 10\n",
        "greeting = \"안녕하세요!\""
      ],
      "metadata": {
        "id": "Xm__AnvVIsaV"
      },
      "execution_count": null,
      "outputs": []
    },
    {
      "cell_type": "code",
      "source": [
        "# 변수 값을 출력\n",
        "print(number)\n",
        "print(greeting)"
      ],
      "metadata": {
        "colab": {
          "base_uri": "https://localhost:8080/"
        },
        "id": "3G8iGxDUI5V_",
        "outputId": "b2b3cd9f-1856-4376-cf45-e1482022b03d"
      },
      "execution_count": null,
      "outputs": [
        {
          "output_type": "stream",
          "name": "stdout",
          "text": [
            "10\n",
            "안녕하세요!\n"
          ]
        }
      ]
    },
    {
      "cell_type": "code",
      "source": [
        "# 변수의 타입을 변경\n",
        "number = \"이제 문자열입니다\"\n",
        "print(number)"
      ],
      "metadata": {
        "colab": {
          "base_uri": "https://localhost:8080/"
        },
        "id": "lQD7wPuLI80E",
        "outputId": "385fea8c-a5a5-453a-b532-f78e4d191d52"
      },
      "execution_count": null,
      "outputs": [
        {
          "output_type": "stream",
          "name": "stdout",
          "text": [
            "이제 문자열입니다\n"
          ]
        }
      ]
    },
    {
      "cell_type": "code",
      "source": [
        "# 변수 할당\n",
        "a = 10\n",
        "b = 3.3\n",
        "\n",
        "# 기본 산술 연산자\n",
        "print(\"a + b =\", a + b) # 덧셈\n",
        "print(\"a - b =\", a - b) # 뺄셈\n",
        "print(\"a * b =\", a * b) # 곱셈\n",
        "print(\"a / b =\", a / b) # 나눗셈\n",
        "print(\"a % b =\", a % b) # 나눗셈 연산 후 나머지를 계산\n",
        "print(\"a // b =\", a // b) # 나눗셈의 몫을 정수로 반환\n",
        "print(\"a ** b =\", a ** b) # 거듭제곱 계산"
      ],
      "metadata": {
        "colab": {
          "base_uri": "https://localhost:8080/"
        },
        "id": "tQwJJXaGJBQd",
        "outputId": "4b8595dc-4a8d-4aad-aa4b-41be26b89336"
      },
      "execution_count": null,
      "outputs": [
        {
          "output_type": "stream",
          "name": "stdout",
          "text": [
            "a + b = 13.3\n",
            "a - b = 6.7\n",
            "a * b = 33.0\n",
            "a / b = 3.0303030303030303\n",
            "a % b = 0.10000000000000053\n",
            "a // b = 3.0\n",
            "a ** b = 1995.2623149688789\n"
          ]
        }
      ]
    },
    {
      "cell_type": "code",
      "source": [
        "# 동등 비교\n",
        "a = 10\n",
        "b = 20\n",
        "print(\"a == b :\", a == b) # a와 b가 같은지 비교\n",
        "\n",
        "# 부등 비교\n",
        "print(\"a != b :\", a != b) # a와 b가 다른지 비교\n",
        "\n",
        "# 크기 비교\n",
        "print(\"a < b :\", a < b) # a가 b보다 작은지 비교\n",
        "print(\"a > b :\", a > b) # a가 b보다 큰지 비교\n",
        "\n",
        "# 크거나 같음, 작거나 같음\n",
        "print(\"a <= b :\", a <= b) # a가 b보다 작거나 같은지 비교\n",
        "print(\"a >= b :\", a >= b) # a가 b보다 크거나 같은지 비교"
      ],
      "metadata": {
        "colab": {
          "base_uri": "https://localhost:8080/"
        },
        "id": "PaLbAJyRJb8F",
        "outputId": "88de0292-9b4f-451f-ab01-6a15570e25c7"
      },
      "execution_count": null,
      "outputs": [
        {
          "output_type": "stream",
          "name": "stdout",
          "text": [
            "a == b : False\n",
            "a != b : True\n",
            "a < b : True\n",
            "a > b : False\n",
            "a <= b : True\n",
            "a >= b : False\n"
          ]
        }
      ]
    },
    {
      "cell_type": "code",
      "source": [
        "# 사용자 나이 검증 예제\n",
        "user_age = 25\n",
        "is_adult = user_age >= 18\n",
        "print(\"성인입니까?\", is_adult)"
      ],
      "metadata": {
        "colab": {
          "base_uri": "https://localhost:8080/"
        },
        "id": "GAcsRuPDKPAT",
        "outputId": "84632b20-8889-4678-b4f2-325d98c597b3"
      },
      "execution_count": null,
      "outputs": [
        {
          "output_type": "stream",
          "name": "stdout",
          "text": [
            "성인입니까? True\n"
          ]
        }
      ]
    },
    {
      "cell_type": "code",
      "source": [
        "# 논리 연산자 예제\n",
        "a = True\n",
        "b = False\n",
        "\n",
        "# and 연산자\n",
        "print(\"a and b :\", a and b) # False, a와 b 둘다 참이어야 참 반환\n",
        "\n",
        "# or 연산자\n",
        "print(\"a or b :\", a or b) # True, a와 b 중 하나라도 참이면 참 반환\n",
        "\n",
        "# not 연산자\n",
        "print(\"not a :\", not a) # False, a와 반대 불리언 값 반환"
      ],
      "metadata": {
        "colab": {
          "base_uri": "https://localhost:8080/"
        },
        "id": "0O-AyTl3KYF5",
        "outputId": "e670aec4-97ff-4855-c019-0d654911c163"
      },
      "execution_count": null,
      "outputs": [
        {
          "output_type": "stream",
          "name": "stdout",
          "text": [
            "a and b : False\n",
            "a or b : True\n",
            "not a : False\n"
          ]
        }
      ]
    },
    {
      "cell_type": "markdown",
      "source": [
        "## 데이터 타입의 이해"
      ],
      "metadata": {
        "id": "T3ESjPhAJ1Mh"
      }
    },
    {
      "cell_type": "code",
      "source": [
        "x = 15\n",
        "print(x, \"는 \", type(x), \"형식이니다.\", sep = '') # sep는 출력할 항목들 사이에 넣을 구분자(separator)를 지정"
      ],
      "metadata": {
        "id": "K4zPpL29Kubn",
        "colab": {
          "base_uri": "https://localhost:8080/"
        },
        "outputId": "6f31dbf1-429a-4604-8506-6efe2bfc5b14"
      },
      "execution_count": null,
      "outputs": [
        {
          "output_type": "stream",
          "name": "stdout",
          "text": [
            "15는 <class 'int'>형식이니다.\n"
          ]
        }
      ]
    },
    {
      "cell_type": "code",
      "source": [
        "y = 3.14159\n",
        "print(y, \"는 \", type(y), \"형식이니다.\", sep = '')"
      ],
      "metadata": {
        "colab": {
          "base_uri": "https://localhost:8080/"
        },
        "id": "DKKqhJYrKIvn",
        "outputId": "981bf71e-3919-4939-cd13-add56b2ff7b4"
      },
      "execution_count": null,
      "outputs": [
        {
          "output_type": "stream",
          "name": "stdout",
          "text": [
            "3.14159는 <class 'float'>형식이니다.\n"
          ]
        }
      ]
    },
    {
      "cell_type": "code",
      "source": [
        "a = \"Hello, world!\"\n",
        "b = 'python programming'\n",
        "\n",
        "# 여러 줄 문자열\n",
        "ml_str = \"\"\"This is\n",
        " a multi-line\n",
        "  string\"\"\"\n",
        "\n",
        "print(a, type(a))\n",
        "print(b, type(b))\n",
        "print(ml_str, type(ml_str))"
      ],
      "metadata": {
        "colab": {
          "base_uri": "https://localhost:8080/"
        },
        "id": "deHX6PneKVgu",
        "outputId": "14612a58-ba73-4d22-fbaa-de87f8485f8e"
      },
      "execution_count": null,
      "outputs": [
        {
          "output_type": "stream",
          "name": "stdout",
          "text": [
            "Hello, world! <class 'str'>\n",
            "python programming <class 'str'>\n",
            "This is\n",
            " a multi-line\n",
            "  string <class 'str'>\n"
          ]
        }
      ]
    },
    {
      "cell_type": "code",
      "source": [
        "# 문자열 결합\n",
        "greeting = \"안녕\" + \" \"  + \"파이썬!\"\n",
        "print(\"결합된 문자열 :\", greeting)\n",
        "\n",
        "# 문자열 반복\n",
        "laugh = \"하\" * 4\n",
        "print(\"반복된 문자열 :\", laugh)"
      ],
      "metadata": {
        "colab": {
          "base_uri": "https://localhost:8080/"
        },
        "id": "CMzXYnG8KtKC",
        "outputId": "3aa9aea7-137d-4dae-87b9-0053652a3993"
      },
      "execution_count": null,
      "outputs": [
        {
          "output_type": "stream",
          "name": "stdout",
          "text": [
            "결합된 문자열 : 안녕 파이썬!\n",
            "반복된 문자열 : 하하하하\n"
          ]
        }
      ]
    },
    {
      "cell_type": "code",
      "source": [
        "fruits = ['apple', 'banana', 'cherry']\n",
        "numbers = [1, 2, 3, 4, 5]\n",
        "mixed_list = [1, \"Hello\", [1, 2, 3]]\n",
        "\n",
        "print(\"Fruits :\", fruits)\n",
        "print(\"Numbers :\", numbers)\n",
        "print(\"Mixed List :\", mixed_list)"
      ],
      "metadata": {
        "colab": {
          "base_uri": "https://localhost:8080/"
        },
        "id": "1u5V6I9UK-f4",
        "outputId": "abcd237b-e35f-4bc8-8c20-fca1081ca225"
      },
      "execution_count": null,
      "outputs": [
        {
          "output_type": "stream",
          "name": "stdout",
          "text": [
            "Fruits : ['apple', 'banana', 'cherry']\n",
            "Numbers : [1, 2, 3, 4, 5]\n",
            "Mixed List : [1, 'Hello', [1, 2, 3]]\n"
          ]
        }
      ]
    },
    {
      "cell_type": "code",
      "source": [
        "a = [10, 20, 30, 40, 50]\n",
        "\n",
        "# 인덱싱\n",
        "print(\"첫 번째 요소 :\", a[0]) # 10\n",
        "print(\"마지막 요소 :\", a[-1]) # 50\n",
        "\n",
        "# 슬라이싱 (a[start:end:step])\n",
        "print(\"처음 두 개 요소 :\", a[:2]) # [10, 20]\n",
        "print(\"중간 세 개 요소 :\", a[1:4]) # [20, 30, 40]\n",
        "print(\"모든 요소 (2개씩 건너뛰기)\", a[::2]) # [10, 30, 50]"
      ],
      "metadata": {
        "colab": {
          "base_uri": "https://localhost:8080/"
        },
        "id": "Bvb9ilHJLQf2",
        "outputId": "45b5b525-16c8-49c8-cf41-f18ce39a76fc"
      },
      "execution_count": null,
      "outputs": [
        {
          "output_type": "stream",
          "name": "stdout",
          "text": [
            "첫 번째 요소 : 10\n",
            "마지막 요소 : 50\n",
            "처음 두 개 요소 : [10, 20]\n",
            "중간 세 개 요소 : [20, 30, 40]\n",
            "모든 요소 (2개씩 건너뛰기) [10, 30, 50]\n"
          ]
        }
      ]
    },
    {
      "cell_type": "code",
      "source": [
        "fruits = [\"apple\", \"banana\"]\n",
        "print(\"생성 시 리스트 :\", fruits)\n",
        "\n",
        "fruits[1] = \"orange\" # 기존 요소 변경\n",
        "print(\"변경 된 리스트 :\", fruits)"
      ],
      "metadata": {
        "colab": {
          "base_uri": "https://localhost:8080/"
        },
        "id": "gZTQ7MrrLyFL",
        "outputId": "4a6e5dce-c02c-45f4-ca13-5e236f8cad06"
      },
      "execution_count": null,
      "outputs": [
        {
          "output_type": "stream",
          "name": "stdout",
          "text": [
            "생성 시 리스트 : ['apple', 'banana']\n",
            "변경 된 리스트 : ['apple', 'orange']\n"
          ]
        }
      ]
    },
    {
      "cell_type": "code",
      "source": [
        "a = (10, 20, 30) # a = 10, 20, 30과 동일\n",
        "b = (42, )\n",
        "\n",
        "print(\"좌표 :\", a)\n",
        "print(\"단원소 튜플 :\", b)"
      ],
      "metadata": {
        "colab": {
          "base_uri": "https://localhost:8080/"
        },
        "id": "FZSfWzf3L__M",
        "outputId": "eb93b4cd-68ca-47f3-9f5a-a909053c579f"
      },
      "execution_count": null,
      "outputs": [
        {
          "output_type": "stream",
          "name": "stdout",
          "text": [
            "좌표 : (10, 20, 30)\n",
            "단원소 튜플 : (42,)\n"
          ]
        }
      ]
    },
    {
      "cell_type": "code",
      "source": [
        "a = (10, 20, 30)\n",
        "\n",
        "# 인덱싱\n",
        "print(\"첫번째 좌표 :\", a[0])\n",
        "\n",
        "# 슬라이싱\n",
        "print(\"마지막 두 개 좌표 :\", a[1:])"
      ],
      "metadata": {
        "colab": {
          "base_uri": "https://localhost:8080/"
        },
        "id": "cXZNCCnDMK5R",
        "outputId": "44c4ece6-688a-4435-d742-55f85d8f1f82"
      },
      "execution_count": null,
      "outputs": [
        {
          "output_type": "stream",
          "name": "stdout",
          "text": [
            "첫번째 좌표 : 10\n",
            "마지막 두 개 좌표 : (20, 30)\n"
          ]
        }
      ]
    },
    {
      "cell_type": "code",
      "source": [
        "fruits = (\"apple\", \"banana\", \"cherry\")\n",
        "\n",
        "# 튜플의 요소를 변경 시도 -> TypeError 발생\n",
        "fruits[1] = \"orange\"\n",
        "print(\"변경 후 튜플 :\",fruits) # 실행되지 않음"
      ],
      "metadata": {
        "colab": {
          "base_uri": "https://localhost:8080/",
          "height": 202
        },
        "id": "hHgNqWcpMS-E",
        "outputId": "0c3ba59f-9763-4822-87b0-10b370cc04bb"
      },
      "execution_count": null,
      "outputs": [
        {
          "output_type": "error",
          "ename": "TypeError",
          "evalue": "'tuple' object does not support item assignment",
          "traceback": [
            "\u001b[0;31m---------------------------------------------------------------------------\u001b[0m",
            "\u001b[0;31mTypeError\u001b[0m                                 Traceback (most recent call last)",
            "\u001b[0;32m<ipython-input-12-899c3c9cb3ec>\u001b[0m in \u001b[0;36m<cell line: 0>\u001b[0;34m()\u001b[0m\n\u001b[1;32m      2\u001b[0m \u001b[0;34m\u001b[0m\u001b[0m\n\u001b[1;32m      3\u001b[0m \u001b[0;31m# 튜플의 요소를 변경 시도 -> TypeError 발생\u001b[0m\u001b[0;34m\u001b[0m\u001b[0;34m\u001b[0m\u001b[0m\n\u001b[0;32m----> 4\u001b[0;31m \u001b[0mfruits\u001b[0m\u001b[0;34m[\u001b[0m\u001b[0;36m1\u001b[0m\u001b[0;34m]\u001b[0m \u001b[0;34m=\u001b[0m \u001b[0;34m\"orange\"\u001b[0m\u001b[0;34m\u001b[0m\u001b[0;34m\u001b[0m\u001b[0m\n\u001b[0m\u001b[1;32m      5\u001b[0m \u001b[0mprint\u001b[0m\u001b[0;34m(\u001b[0m\u001b[0;34m\"변경 후 튜플 :\"\u001b[0m\u001b[0;34m,\u001b[0m\u001b[0mfruits\u001b[0m\u001b[0;34m)\u001b[0m \u001b[0;31m# 실행되지 않음\u001b[0m\u001b[0;34m\u001b[0m\u001b[0;34m\u001b[0m\u001b[0m\n",
            "\u001b[0;31mTypeError\u001b[0m: 'tuple' object does not support item assignment"
          ]
        }
      ]
    },
    {
      "cell_type": "code",
      "source": [
        "person = {\n",
        "    'name' : 'John',\n",
        "    'age' : 30,\n",
        "    'city' : 'New York'\n",
        "}\n",
        "print(\"Person :\", person)"
      ],
      "metadata": {
        "colab": {
          "base_uri": "https://localhost:8080/"
        },
        "id": "N_a3aVc1MfkQ",
        "outputId": "c12852ba-dac5-4736-d603-0edc2caa6cbc"
      },
      "execution_count": null,
      "outputs": [
        {
          "output_type": "stream",
          "name": "stdout",
          "text": [
            "Person : {'name': 'John', 'age': 30, 'city': 'New York'}\n"
          ]
        }
      ]
    },
    {
      "cell_type": "code",
      "source": [
        "print(\"이름 :\", person['name'])\n",
        "print(\"나이 :\", person['age'])\n",
        "print(\"도시 :\", person['city'])"
      ],
      "metadata": {
        "colab": {
          "base_uri": "https://localhost:8080/"
        },
        "id": "rPiv48wVMqAb",
        "outputId": "3a68feff-af8f-4b7c-8525-78e3c9d2846f"
      },
      "execution_count": null,
      "outputs": [
        {
          "output_type": "stream",
          "name": "stdout",
          "text": [
            "이름 : John\n",
            "나이 : 30\n",
            "도시 : New York\n"
          ]
        }
      ]
    },
    {
      "cell_type": "code",
      "source": [
        "fruits = {'apple', 'banana', 'cherry', 'apple'}\n",
        "print(\"Fruits set :\", fruits) # 중복 'apple'은 제거됨\n",
        "\n",
        "# 빈 집합 생성\n",
        "empty_set = set()\n",
        "print(\"Empty set :\", empty_set)"
      ],
      "metadata": {
        "colab": {
          "base_uri": "https://localhost:8080/"
        },
        "id": "WnThPK_0MxX1",
        "outputId": "c9fa512f-130c-4cd1-de12-71fc6bbe6b5f"
      },
      "execution_count": null,
      "outputs": [
        {
          "output_type": "stream",
          "name": "stdout",
          "text": [
            "Fruits set : {'cherry', 'apple', 'banana'}\n",
            "Empty set : set()\n"
          ]
        }
      ]
    },
    {
      "cell_type": "code",
      "source": [
        "# 요소 추가\n",
        "fruits.add('orange')\n",
        "print(\"After ading orange :\", fruits)\n",
        "# 요소 삭제\n",
        "fruits.remove('banana')\n",
        "print(\"After removing banana :\", fruits)"
      ],
      "metadata": {
        "colab": {
          "base_uri": "https://localhost:8080/"
        },
        "id": "DAzRfNjUM-2J",
        "outputId": "86f7c003-70e0-48a1-84d8-5697cb6bf3d3"
      },
      "execution_count": null,
      "outputs": [
        {
          "output_type": "stream",
          "name": "stdout",
          "text": [
            "After ading orange : {'cherry', 'apple', 'orange', 'banana'}\n",
            "After removing banana : {'cherry', 'apple', 'orange'}\n"
          ]
        }
      ]
    },
    {
      "cell_type": "code",
      "source": [
        "# 집합 간 연산\n",
        "other_fruits = {'berry', 'cherry'}\n",
        "union_fruits = fruits.union(other_fruits)\n",
        "intersection_fruits = fruits.intersection(other_fruits)\n",
        "print(\"Union of fruits :\", union_fruits)\n",
        "print(\"Intersection of fruits :\", intersection_fruits)"
      ],
      "metadata": {
        "colab": {
          "base_uri": "https://localhost:8080/"
        },
        "id": "ddJaZvgdNjh6",
        "outputId": "89f6908d-f393-4d44-9f55-5c6001453589"
      },
      "execution_count": null,
      "outputs": [
        {
          "output_type": "stream",
          "name": "stdout",
          "text": [
            "Union of fruits : {'apple', 'cherry', 'orange', 'berry'}\n",
            "Intersection of fruits : {'cherry'}\n"
          ]
        }
      ]
    },
    {
      "cell_type": "code",
      "source": [
        "p = True\n",
        "q = False\n",
        "print(p, type(p))\n",
        "print(q, type(q))\n",
        "print(p + p) # True는 1로, False는 0으로 계산"
      ],
      "metadata": {
        "colab": {
          "base_uri": "https://localhost:8080/"
        },
        "id": "EeKZdKR_OAfw",
        "outputId": "46e51173-44da-4b76-8ce1-afc4df41675b"
      },
      "execution_count": null,
      "outputs": [
        {
          "output_type": "stream",
          "name": "stdout",
          "text": [
            "True <class 'bool'>\n",
            "False <class 'bool'>\n",
            "2\n"
          ]
        }
      ]
    },
    {
      "cell_type": "code",
      "source": [
        "is_active = True\n",
        "is_greater = 10 > 5 # True 반환\n",
        "is_equal = (10 == 5) # False 반환\n",
        "\n",
        "print(\"Is active :\", is_active)\n",
        "print(\"Is 10 greater than 5? :\", is_greater)\n",
        "print(\"Is 10 equal to 5? :\", is_equal)"
      ],
      "metadata": {
        "colab": {
          "base_uri": "https://localhost:8080/"
        },
        "id": "fflLuy0jOcY7",
        "outputId": "0013d4cd-8f93-42e6-9792-9bb2d7cafcd1"
      },
      "execution_count": null,
      "outputs": [
        {
          "output_type": "stream",
          "name": "stdout",
          "text": [
            "Is active : True\n",
            "Is 10 greater than 5? : True\n",
            "Is 10 equal to 5? : False\n"
          ]
        }
      ]
    },
    {
      "cell_type": "code",
      "source": [
        "# 논리 AND 연산\n",
        "print(\"True and False :\", True and False) # False\n",
        "# 논리 OR 연산\n",
        "print(\"True or False :\", True or False) # True\n",
        "# 논리 NOT 연산\n",
        "print(\"not True :\", not True) # False"
      ],
      "metadata": {
        "colab": {
          "base_uri": "https://localhost:8080/"
        },
        "id": "9wnf6UXOOv7a",
        "outputId": "8a6f0b2a-4212-4dad-ab1f-a3f884352bde"
      },
      "execution_count": null,
      "outputs": [
        {
          "output_type": "stream",
          "name": "stdout",
          "text": [
            "True and False : False\n",
            "True or False : True\n",
            "not True : False\n"
          ]
        }
      ]
    },
    {
      "cell_type": "code",
      "source": [
        "a = 3\n",
        "if (a == 2): # a는 3이므로 False\n",
        "  print(\"a는 2와 같습니다.\")\n",
        "else:\n",
        "  print(\"a는 2와 같지 않습니다.\")"
      ],
      "metadata": {
        "colab": {
          "base_uri": "https://localhost:8080/"
        },
        "id": "rhRQmsFGPGSd",
        "outputId": "cd289359-db9c-4c65-a195-e4dcc9567a55"
      },
      "execution_count": null,
      "outputs": [
        {
          "output_type": "stream",
          "name": "stdout",
          "text": [
            "a는 2와 같지 않습니다.\n"
          ]
        }
      ]
    },
    {
      "cell_type": "code",
      "source": [
        "# 숫자형을 문자열형으로 변환\n",
        "num = 123\n",
        "str_num = str(num)\n",
        "print(\"문자열 :\", str_num, type(str_num))\n",
        "\n",
        "# 문자열형을 숫자형(실수)으로 변환\n",
        "num_again = float(str_num)\n",
        "print(\"숫자형 :\", num_again, type(num_again))"
      ],
      "metadata": {
        "colab": {
          "base_uri": "https://localhost:8080/"
        },
        "id": "xar2FWynPW14",
        "outputId": "ff3cda2d-c2fc-443a-a398-35c608e5fc6e"
      },
      "execution_count": null,
      "outputs": [
        {
          "output_type": "stream",
          "name": "stdout",
          "text": [
            "문자열 : 123 <class 'str'>\n",
            "숫자형 : 123.0 <class 'float'>\n"
          ]
        }
      ]
    },
    {
      "cell_type": "code",
      "source": [
        "# 리스트와 튜플 변환\n",
        "lst = [1, 2, 3]\n",
        "print(\"리스트 :\", lst)\n",
        "tup = tuple(lst)\n",
        "print(\"튜플 :\", tup)"
      ],
      "metadata": {
        "colab": {
          "base_uri": "https://localhost:8080/"
        },
        "id": "FmAkflCNPrmE",
        "outputId": "bc8580f8-a936-4462-b06c-04c35d8a7104"
      },
      "execution_count": null,
      "outputs": [
        {
          "output_type": "stream",
          "name": "stdout",
          "text": [
            "리스트 : [1, 2, 3]\n",
            "튜플 : (1, 2, 3)\n"
          ]
        }
      ]
    },
    {
      "cell_type": "code",
      "source": [
        "set_example = {'a', 'b', 'c'}\n",
        "# 딕셔너리로 변환 시, 일반적으로 집합 요소를 키 또는 값으로 사용\n",
        "dict_from_set = {key: True for key in set_example}\n",
        "print(\"Dictionary from set :\", dict_from_set)"
      ],
      "metadata": {
        "colab": {
          "base_uri": "https://localhost:8080/"
        },
        "id": "eJROa2UoP3Yv",
        "outputId": "debee2eb-4727-4008-b433-527768c755b9"
      },
      "execution_count": null,
      "outputs": [
        {
          "output_type": "stream",
          "name": "stdout",
          "text": [
            "Dictionary from set : {'c': True, 'b': True, 'a': True}\n"
          ]
        }
      ]
    },
    {
      "cell_type": "code",
      "source": [
        "# 숫자를 논리형으로 변환\n",
        "zero = 0\n",
        "non_zero = 7\n",
        "bool_from_zero = bool(zero) # False\n",
        "bool_from_non_zero = bool(non_zero) # True\n",
        "print(\"0을 논리형으로 바꾸면 :\", bool_from_zero)\n",
        "print(\"7을 논리형으로 바꾸면 :\", bool_from_non_zero)\n",
        "\n",
        "# 논리형을 숫자로 변환\n",
        "true_bool = True\n",
        "false_bool = False\n",
        "int_from_true = int(true_bool) # 1\n",
        "int_from_false = int(false_bool) # 0\n",
        "print(\"True는 숫자로 :\", int_from_true)\n",
        "print(\"False는 숫자로 :\", int_from_false)"
      ],
      "metadata": {
        "colab": {
          "base_uri": "https://localhost:8080/"
        },
        "id": "CiY2_LnQQFeF",
        "outputId": "d7379e99-dd84-4960-f0f9-3ac8dc4a6cc4"
      },
      "execution_count": null,
      "outputs": [
        {
          "output_type": "stream",
          "name": "stdout",
          "text": [
            "0을 논리형으로 바꾸면 : False\n",
            "7을 논리형으로 바꾸면 : True\n",
            "True는 숫자로 : 1\n",
            "False는 숫자로 : 0\n"
          ]
        }
      ]
    },
    {
      "cell_type": "code",
      "source": [
        "# 논리형을 문자열로 변환\n",
        "str_from_true = str(true_bool) # \"True\"\n",
        "str_from_false = str(false_bool) # \"False\"\n",
        "print(\"True는 문자열로 :\", str_from_true)\n",
        "print(\"False는 문자열로 :\", str_from_false)\n",
        "\n",
        "# 문자열을 논리형으로 변환\n",
        "str_true = \"True\"\n",
        "str_false = \"False\"\n",
        "bool_from_str_true = bool(str_true) # True\n",
        "bool_from_str_false = bool(str_false) # True, 비어있지 않으면 무조건 참\n",
        "print(\"'True'는 논리형으로 바꾸면 :\", bool_from_str_true)\n",
        "print(\"'False'는 논리형으로 바꾸면 :\", bool_from_str_false)"
      ],
      "metadata": {
        "colab": {
          "base_uri": "https://localhost:8080/"
        },
        "id": "vE_3_1FoQul2",
        "outputId": "effdbf80-c1ce-4984-9483-9719c6c0ca80"
      },
      "execution_count": null,
      "outputs": [
        {
          "output_type": "stream",
          "name": "stdout",
          "text": [
            "True는 문자열로 : True\n",
            "False는 문자열로 : False\n",
            "'True'는 논리형으로 바꾸면 : True\n",
            "'False'는 논리형으로 바꾸면 : True\n"
          ]
        }
      ]
    },
    {
      "cell_type": "markdown",
      "source": [
        "## Numpy와 벡터"
      ],
      "metadata": {
        "id": "4obLmyIcFfVt"
      }
    },
    {
      "cell_type": "code",
      "source": [
        "import numpy as np"
      ],
      "metadata": {
        "id": "d8Ucm8PwRjO0"
      },
      "execution_count": 1,
      "outputs": []
    },
    {
      "cell_type": "code",
      "source": [
        "a = np.array([1, 2, 3, 4, 5]) # 숫자형 벡터 생성\n",
        "b = np.array([\"apple\", \"banana\", \"orange\"]) # 문자형 벡터 생성\n",
        "c = np.array([True, False, True, True]) # 논리형 벡터 생성\n",
        "\n",
        "print(\"Numeric Vector :\", a)\n",
        "print(\"String Vector :\", b)\n",
        "print(\"Boolean Vector :\",c)"
      ],
      "metadata": {
        "id": "lYR4KtkTFjc-",
        "outputId": "9ac1afd8-2bbd-4316-cdca-3ac83459e1e8",
        "colab": {
          "base_uri": "https://localhost:8080/"
        }
      },
      "execution_count": 2,
      "outputs": [
        {
          "output_type": "stream",
          "name": "stdout",
          "text": [
            "Numeric Vector : [1 2 3 4 5]\n",
            "String Vector : ['apple' 'banana' 'orange']\n",
            "Boolean Vector : [ True False  True  True]\n"
          ]
        }
      ]
    },
    {
      "cell_type": "code",
      "source": [
        "# 빈 배열 생성\n",
        "x = np.empty(3)\n",
        "print(\"빈 벡터 생성하기 :\", x) # 메모리의 임의의 값을 가지며 시스템에 따라 다름\n",
        "\n",
        "# 배열 채우기\n",
        "x[0] = 3\n",
        "x[1] = 5\n",
        "x[2] = 3\n",
        "print(\"채워진 벡터 :\", x)"
      ],
      "metadata": {
        "id": "g9YzrASWGLpY",
        "outputId": "6857cea9-2de8-4432-a57a-3264030e3a99",
        "colab": {
          "base_uri": "https://localhost:8080/"
        }
      },
      "execution_count": 3,
      "outputs": [
        {
          "output_type": "stream",
          "name": "stdout",
          "text": [
            "빈 벡터 생성하기 : [2.41907520e-312 2.33419537e-312 2.14321575e-312]\n",
            "채워진 벡터 : [3. 5. 3.]\n"
          ]
        }
      ]
    },
    {
      "cell_type": "code",
      "source": [
        "arr1 = np.arange(10)\n",
        "print(\"Array from 0 to 9 :\", arr1)"
      ],
      "metadata": {
        "id": "HWW5M2yUGeGs",
        "outputId": "45fae92c-753d-466d-c998-387ec53c3b4f",
        "colab": {
          "base_uri": "https://localhost:8080/"
        }
      },
      "execution_count": 4,
      "outputs": [
        {
          "output_type": "stream",
          "name": "stdout",
          "text": [
            "Array from 0 to 9 : [0 1 2 3 4 5 6 7 8 9]\n"
          ]
        }
      ]
    },
    {
      "cell_type": "code",
      "source": [
        "arr2 = np.arange(0, 2, 0.5)\n",
        "print(\"0부터 2 미만까지 0.5 간격으로 발생 :\", arr2)"
      ],
      "metadata": {
        "id": "zrnMP9I5GlsZ",
        "outputId": "ce3cf40a-b1ea-481d-9ae2-85d9387bb715",
        "colab": {
          "base_uri": "https://localhost:8080/"
        }
      },
      "execution_count": 5,
      "outputs": [
        {
          "output_type": "stream",
          "name": "stdout",
          "text": [
            "0부터 2 미만까지 0.5 간격으로 발생 : [0.  0.5 1.  1.5]\n"
          ]
        }
      ]
    },
    {
      "cell_type": "code",
      "source": [
        "linear_space1 = np.linspace(0, 1, 5)\n",
        "print(\"0부터 1까지 5개 원소 :\", linear_space1)"
      ],
      "metadata": {
        "id": "Ave3RSkvGrgF",
        "outputId": "67f559cf-7864-4cad-f193-a9b42f7579c1",
        "colab": {
          "base_uri": "https://localhost:8080/"
        }
      },
      "execution_count": 6,
      "outputs": [
        {
          "output_type": "stream",
          "name": "stdout",
          "text": [
            "0부터 1까지 5개 원소 : [0.   0.25 0.5  0.75 1.  ]\n"
          ]
        }
      ]
    },
    {
      "cell_type": "code",
      "source": [
        "linear_space2 = np.linspace(0, 1, 5, endpoint = False)\n",
        "print(\"0부터 1까지 5개 원소, endpoint 제외 :\", linear_space2)"
      ],
      "metadata": {
        "id": "oExVeXX9G5Lt",
        "outputId": "e40a3623-c2a2-45fb-aa64-3114c5c28c3d",
        "colab": {
          "base_uri": "https://localhost:8080/"
        }
      },
      "execution_count": 8,
      "outputs": [
        {
          "output_type": "stream",
          "name": "stdout",
          "text": [
            "0부터 1까지 5개 원소, endpoint 제외 : [0.  0.2 0.4 0.6 0.8]\n"
          ]
        }
      ]
    },
    {
      "cell_type": "code",
      "source": [
        "# 숫자 8을 4번 반복\n",
        "repeated_vals = np.repeat(8, 4)\n",
        "print(\"Repeated 8 four times :\", repeated_vals)"
      ],
      "metadata": {
        "id": "avSvV_CCHDRE",
        "outputId": "505d3539-c72b-4138-856e-f2fba4701ca5",
        "colab": {
          "base_uri": "https://localhost:8080/"
        }
      },
      "execution_count": 9,
      "outputs": [
        {
          "output_type": "stream",
          "name": "stdout",
          "text": [
            "Repeated 8 four times : [8 8 8 8]\n"
          ]
        }
      ]
    },
    {
      "cell_type": "code",
      "source": [
        "# 배열 [1, 2, 4]를 2번 반복\n",
        "repeated_array = np.repeat([1, 2, 4], 2)\n",
        "print(\"Repeated array [1, 2, 4] two times :\", repeated_array)"
      ],
      "metadata": {
        "id": "y_6ViNaXHM3N",
        "outputId": "5ec436ff-366b-4c5b-c67a-e32d6593c2d9",
        "colab": {
          "base_uri": "https://localhost:8080/"
        }
      },
      "execution_count": 10,
      "outputs": [
        {
          "output_type": "stream",
          "name": "stdout",
          "text": [
            "Repeated array [1, 2, 4] two times : [1 1 2 2 4 4]\n"
          ]
        }
      ]
    },
    {
      "cell_type": "code",
      "source": [
        "# 배열 [1, 2, 4]의 각 요소를 각각 1, 2, 3번 반복\n",
        "repeated_each = np.repeat([1, 2, 4], repeats = [1, 2, 3]) # repeats 인수를 배열로 사용\n",
        "print(\"Repeated each element in [1, 2, 4] two times :\", repeated_each)"
      ],
      "metadata": {
        "id": "cvipReotHXVj",
        "outputId": "33ae0ad4-74b5-40a4-abb1-d2a22ee140eb",
        "colab": {
          "base_uri": "https://localhost:8080/"
        }
      },
      "execution_count": 11,
      "outputs": [
        {
          "output_type": "stream",
          "name": "stdout",
          "text": [
            "Repeated each element in [1, 2, 4] two times : [1 2 2 4 4 4]\n"
          ]
        }
      ]
    },
    {
      "cell_type": "code",
      "source": [
        "# 배열 [1, 2, 4]를 2회 반복\n",
        "repeated_whole = np.tile([1, 2, 4], 2)\n",
        "print(\"벡터 전체를 두 번 반복 :\", repeated_whole)"
      ],
      "metadata": {
        "id": "xR-ytjc2HlzA",
        "outputId": "2ed15916-d15e-426e-e24c-174444852cd8",
        "colab": {
          "base_uri": "https://localhost:8080/"
        }
      },
      "execution_count": 12,
      "outputs": [
        {
          "output_type": "stream",
          "name": "stdout",
          "text": [
            "벡터 전체를 두 번 반복 : [1 2 4 1 2 4]\n"
          ]
        }
      ]
    },
    {
      "cell_type": "code",
      "source": [
        "a = np.array([1, 2, 3, 4, 5]) # 1차원 배열\n",
        "len(a)"
      ],
      "metadata": {
        "id": "6q6okDgWHwQa",
        "outputId": "e93fa202-86f2-4aed-eacc-a55c7c03d6e8",
        "colab": {
          "base_uri": "https://localhost:8080/"
        }
      },
      "execution_count": 13,
      "outputs": [
        {
          "output_type": "execute_result",
          "data": {
            "text/plain": [
              "5"
            ]
          },
          "metadata": {},
          "execution_count": 13
        }
      ]
    },
    {
      "cell_type": "code",
      "source": [
        "a = np.array([1, 2, 3, 4, 5])\n",
        "a.shape"
      ],
      "metadata": {
        "id": "Q6irTHJ0H2g2",
        "outputId": "3e0617d8-241e-43fe-cf07-fb78b585038c",
        "colab": {
          "base_uri": "https://localhost:8080/"
        }
      },
      "execution_count": 14,
      "outputs": [
        {
          "output_type": "execute_result",
          "data": {
            "text/plain": [
              "(5,)"
            ]
          },
          "metadata": {},
          "execution_count": 14
        }
      ]
    },
    {
      "cell_type": "code",
      "source": [
        "a = np.array([1, 2, 3, 4, 5])\n",
        "a.size"
      ],
      "metadata": {
        "id": "QSeaTK_cH6Sf",
        "outputId": "73ce8a60-3715-42f6-93f0-5e130c677051",
        "colab": {
          "base_uri": "https://localhost:8080/"
        }
      },
      "execution_count": 15,
      "outputs": [
        {
          "output_type": "execute_result",
          "data": {
            "text/plain": [
              "5"
            ]
          },
          "metadata": {},
          "execution_count": 15
        }
      ]
    },
    {
      "cell_type": "code",
      "source": [
        "# a를 랜덤하게 채움\n",
        "np.random.seed(42) # 동일한 결과를 위한 설정\n",
        "a = np.random.randint(1, 21, 10)\n",
        "print(a)\n",
        "print(a[1]) # 두 번째 값 추출 (0이 첫 번째)"
      ],
      "metadata": {
        "id": "7lKWcvI1H91-",
        "outputId": "9cb064ae-dde7-4f94-f477-985e1de46be6",
        "colab": {
          "base_uri": "https://localhost:8080/"
        }
      },
      "execution_count": 17,
      "outputs": [
        {
          "output_type": "stream",
          "name": "stdout",
          "text": [
            "[ 7 20 15 11  8  7 19 11 11  4]\n",
            "20\n"
          ]
        }
      ]
    },
    {
      "cell_type": "code",
      "source": [
        "# 세 번째부터 다섯 번째 값 추출\n",
        "print(a[2:5])"
      ],
      "metadata": {
        "id": "wVytMT7tIHeG",
        "outputId": "bc43a327-46b4-43b5-9e81-9f4008868d41",
        "colab": {
          "base_uri": "https://localhost:8080/"
        }
      },
      "execution_count": 18,
      "outputs": [
        {
          "output_type": "stream",
          "name": "stdout",
          "text": [
            "[15 11  8]\n"
          ]
        }
      ]
    },
    {
      "cell_type": "code",
      "source": [
        "# 첫 번째, 세 번째, 다섯 번째 값 추출\n",
        "print(a[[0, 2, 4]])\n",
        "# 두 번째 값 제외하고 추출\n",
        "print(np.delete(a, 1))"
      ],
      "metadata": {
        "id": "VAL5UF7pIOJU",
        "outputId": "d7168eb0-1aa4-41fe-97ac-ff67281085c1",
        "colab": {
          "base_uri": "https://localhost:8080/"
        }
      },
      "execution_count": 19,
      "outputs": [
        {
          "output_type": "stream",
          "name": "stdout",
          "text": [
            "[ 7 15  8]\n",
            "[ 7 15 11  8  7 19 11 11  4]\n"
          ]
        }
      ]
    },
    {
      "cell_type": "code",
      "source": [
        "# 인덱싱 중복 선택\n",
        "print(a)\n",
        "print(a[[1, 1, 3, 2]])"
      ],
      "metadata": {
        "id": "1ZNo9jReIaz9",
        "outputId": "822a162b-25ec-4459-d6b9-a85e9bddb3cd",
        "colab": {
          "base_uri": "https://localhost:8080/"
        }
      },
      "execution_count": 20,
      "outputs": [
        {
          "output_type": "stream",
          "name": "stdout",
          "text": [
            "[ 7 20 15 11  8  7 19 11 11  4]\n",
            "[20 20 11 15]\n"
          ]
        }
      ]
    },
    {
      "cell_type": "code",
      "source": [
        "b = a[a > 3]\n",
        "print(b)"
      ],
      "metadata": {
        "id": "-utzVnI4Iff2",
        "outputId": "1176a825-81e7-4c98-e90c-4537cc233231",
        "colab": {
          "base_uri": "https://localhost:8080/"
        }
      },
      "execution_count": 21,
      "outputs": [
        {
          "output_type": "stream",
          "name": "stdout",
          "text": [
            "[ 7 20 15 11  8  7 19 11 11  4]\n"
          ]
        }
      ]
    },
    {
      "cell_type": "code",
      "source": [
        "b = a[(a > 2) & (a < 9)]\n",
        "print(b)"
      ],
      "metadata": {
        "id": "oM8R5ZlSIiiT",
        "outputId": "e09ecebd-4a9a-4290-c520-9c293d6b286a",
        "colab": {
          "base_uri": "https://localhost:8080/"
        }
      },
      "execution_count": 22,
      "outputs": [
        {
          "output_type": "stream",
          "name": "stdout",
          "text": [
            "[7 8 7 4]\n"
          ]
        }
      ]
    },
    {
      "cell_type": "code",
      "source": [
        "print(a[a == 8])\n",
        "print(a[a != 8])"
      ],
      "metadata": {
        "id": "45D79_QUInjV",
        "outputId": "1030c6ba-aff5-4f95-c8a8-50f2fb131c9d",
        "colab": {
          "base_uri": "https://localhost:8080/"
        }
      },
      "execution_count": 23,
      "outputs": [
        {
          "output_type": "stream",
          "name": "stdout",
          "text": [
            "[8]\n",
            "[ 7 20 15 11  7 19 11 11  4]\n"
          ]
        }
      ]
    },
    {
      "cell_type": "code",
      "source": [
        "print(~(a == 8))\n",
        "print(a[~(a == 8)])"
      ],
      "metadata": {
        "id": "F63we-tVItpH",
        "outputId": "bbbd81af-00f0-43dd-c0bc-e123f6fada71",
        "colab": {
          "base_uri": "https://localhost:8080/"
        }
      },
      "execution_count": 24,
      "outputs": [
        {
          "output_type": "stream",
          "name": "stdout",
          "text": [
            "[ True  True  True  True False  True  True  True  True  True]\n",
            "[ 7 20 15 11  7 19 11 11  4]\n"
          ]
        }
      ]
    },
    {
      "cell_type": "code",
      "source": [
        "b = a[np.arange(1, 11) % 2 == 1]\n",
        "print(b)"
      ],
      "metadata": {
        "id": "Ybce5SfbIyNe",
        "outputId": "7784d1aa-d7e7-4beb-8898-ad7ad85817dc",
        "colab": {
          "base_uri": "https://localhost:8080/"
        }
      },
      "execution_count": 25,
      "outputs": [
        {
          "output_type": "stream",
          "name": "stdout",
          "text": [
            "[ 7 15  8 19 11]\n"
          ]
        }
      ]
    },
    {
      "cell_type": "code",
      "source": [
        "b = a[a% 3 == 0]\n",
        "print(b)"
      ],
      "metadata": {
        "id": "Pm3sfh4YI2xX",
        "outputId": "192df068-93f0-4a90-8fc8-5abdf5f63415",
        "colab": {
          "base_uri": "https://localhost:8080/"
        }
      },
      "execution_count": 26,
      "outputs": [
        {
          "output_type": "stream",
          "name": "stdout",
          "text": [
            "[15]\n"
          ]
        }
      ]
    },
    {
      "cell_type": "code",
      "source": [
        "x = np.array([True, True, False])\n",
        "y = np.array([True, False, False])\n",
        "print(x & y)"
      ],
      "metadata": {
        "id": "BGfnoiM7I8ME",
        "outputId": "892ba582-1df4-4d9d-ac4e-29c5472119cb",
        "colab": {
          "base_uri": "https://localhost:8080/"
        }
      },
      "execution_count": 27,
      "outputs": [
        {
          "output_type": "stream",
          "name": "stdout",
          "text": [
            "[ True False False]\n"
          ]
        }
      ]
    },
    {
      "cell_type": "code",
      "source": [
        "print(x | y)"
      ],
      "metadata": {
        "id": "B-96ZuF7JQQJ",
        "outputId": "6b0140ea-9404-404c-bfac-a6810bbdf8ae",
        "colab": {
          "base_uri": "https://localhost:8080/"
        }
      },
      "execution_count": 28,
      "outputs": [
        {
          "output_type": "stream",
          "name": "stdout",
          "text": [
            "[ True  True False]\n"
          ]
        }
      ]
    },
    {
      "cell_type": "code",
      "source": [
        "a = np.array([1, 2, 3, 4, 16, 17, 18]) # 예시 배열\n",
        "\n",
        "result = a[(a == 4) & (a > 15)]\n",
        "print(result)"
      ],
      "metadata": {
        "id": "lL7kZIPKJStb",
        "outputId": "3b1dcdfa-7d8a-45ed-ccef-ad3d875cab13",
        "colab": {
          "base_uri": "https://localhost:8080/"
        }
      },
      "execution_count": 29,
      "outputs": [
        {
          "output_type": "stream",
          "name": "stdout",
          "text": [
            "[]\n"
          ]
        }
      ]
    },
    {
      "cell_type": "code",
      "source": [
        "result = a[(a == 4) | (a > 15)]\n",
        "print(result)"
      ],
      "metadata": {
        "id": "cf5jv_4xJcd_",
        "outputId": "b5143394-eaa4-44af-a388-5ccc08a26616",
        "colab": {
          "base_uri": "https://localhost:8080/"
        }
      },
      "execution_count": 30,
      "outputs": [
        {
          "output_type": "stream",
          "name": "stdout",
          "text": [
            "[ 4 16 17 18]\n"
          ]
        }
      ]
    },
    {
      "cell_type": "code",
      "source": [
        "a = np.array([5, 10, 15, 20, 25, 30])\n",
        "\n",
        "a[a >= 10] = 10\n",
        "a"
      ],
      "metadata": {
        "id": "T6hDCIcNJhAH",
        "outputId": "cc8c9f70-2d20-452f-fa6a-f5a3cede6860",
        "colab": {
          "base_uri": "https://localhost:8080/"
        }
      },
      "execution_count": 31,
      "outputs": [
        {
          "output_type": "execute_result",
          "data": {
            "text/plain": [
              "array([ 5, 10, 10, 10, 10, 10])"
            ]
          },
          "metadata": {},
          "execution_count": 31
        }
      ]
    },
    {
      "cell_type": "code",
      "source": [
        "a = np.array([1, 5, 7, 8, 10]) # 예시 배열\n",
        "\n",
        "result = a < 7\n",
        "result"
      ],
      "metadata": {
        "id": "HrulRFvDJre4",
        "outputId": "41d76fc4-f2de-4a7e-b3ee-8fcba1bd1b3e",
        "colab": {
          "base_uri": "https://localhost:8080/"
        }
      },
      "execution_count": 32,
      "outputs": [
        {
          "output_type": "execute_result",
          "data": {
            "text/plain": [
              "array([ True,  True, False, False, False])"
            ]
          },
          "metadata": {},
          "execution_count": 32
        }
      ]
    },
    {
      "cell_type": "code",
      "source": [
        "result = np.where(a < 7)\n",
        "result"
      ],
      "metadata": {
        "id": "fpBoWP6yJ0DR",
        "outputId": "e0aaa751-d207-4f92-cc95-f428daba5faa",
        "colab": {
          "base_uri": "https://localhost:8080/"
        }
      },
      "execution_count": 33,
      "outputs": [
        {
          "output_type": "execute_result",
          "data": {
            "text/plain": [
              "(array([0, 1]),)"
            ]
          },
          "metadata": {},
          "execution_count": 33
        }
      ]
    },
    {
      "cell_type": "code",
      "source": [
        "a = np.array([1, 2, 3, 4, 5])\n",
        "\n",
        "sum_a = np.sum(a) # 합계 계산\n",
        "mean_a = np.mean(a) # 평균 계산\n",
        "median_a = np.median(a) # 중앙값 계산\n",
        "std_a = np.std(a, ddof = 1) # 표준편차 계산\n",
        "\n",
        "sum_a, mean_a, median_a, std_a"
      ],
      "metadata": {
        "id": "wkg8Ok8bJ29s",
        "outputId": "07f8e0d6-8647-40b6-af31-2cad5d4389e9",
        "colab": {
          "base_uri": "https://localhost:8080/"
        }
      },
      "execution_count": 34,
      "outputs": [
        {
          "output_type": "execute_result",
          "data": {
            "text/plain": [
              "(np.int64(15),\n",
              " np.float64(3.0),\n",
              " np.float64(3.0),\n",
              " np.float64(1.5811388300841898))"
            ]
          },
          "metadata": {},
          "execution_count": 34
        }
      ]
    },
    {
      "cell_type": "code",
      "source": [
        "a = np.array([20, np.nan, 13, 24, 309])\n",
        "a"
      ],
      "metadata": {
        "id": "JyMRegVOKHst",
        "outputId": "24a98d9e-20a1-4a5c-821e-eaef16788dda",
        "colab": {
          "base_uri": "https://localhost:8080/"
        }
      },
      "execution_count": 35,
      "outputs": [
        {
          "output_type": "execute_result",
          "data": {
            "text/plain": [
              "array([ 20.,  nan,  13.,  24., 309.])"
            ]
          },
          "metadata": {},
          "execution_count": 35
        }
      ]
    },
    {
      "cell_type": "code",
      "source": [
        "np.mean(a)"
      ],
      "metadata": {
        "id": "wCI7zGMgKMGU",
        "outputId": "bfe79c4e-7117-434e-a4f9-2a32e7a16c14",
        "colab": {
          "base_uri": "https://localhost:8080/"
        }
      },
      "execution_count": 36,
      "outputs": [
        {
          "output_type": "execute_result",
          "data": {
            "text/plain": [
              "np.float64(nan)"
            ]
          },
          "metadata": {},
          "execution_count": 36
        }
      ]
    },
    {
      "cell_type": "code",
      "source": [
        "np.nanmean(a) # nan 무시 함수"
      ],
      "metadata": {
        "id": "m93oh-j8KNR0",
        "outputId": "7dbd254e-7c93-4a2a-aac6-e5f62db4e018",
        "colab": {
          "base_uri": "https://localhost:8080/"
        }
      },
      "execution_count": 38,
      "outputs": [
        {
          "output_type": "execute_result",
          "data": {
            "text/plain": [
              "np.float64(91.5)"
            ]
          },
          "metadata": {},
          "execution_count": 38
        }
      ]
    },
    {
      "cell_type": "code",
      "source": [
        "value = np.nan\n",
        "if np.isnan(value):\n",
        "  print(\"값이 NaN입니다.\")"
      ],
      "metadata": {
        "id": "NZRzbkXBKOu7",
        "outputId": "a66353c3-de2c-47ad-cb23-55bb76157f77",
        "colab": {
          "base_uri": "https://localhost:8080/"
        }
      },
      "execution_count": 39,
      "outputs": [
        {
          "output_type": "stream",
          "name": "stdout",
          "text": [
            "값이 NaN입니다.\n"
          ]
        }
      ]
    },
    {
      "cell_type": "code",
      "source": [
        "value + 1 # 수치연산이 가능하나 결과는 nan"
      ],
      "metadata": {
        "id": "m2wwM3q5KWHK",
        "outputId": "7704296b-9bc8-459c-8499-8155105f21e8",
        "colab": {
          "base_uri": "https://localhost:8080/"
        }
      },
      "execution_count": 40,
      "outputs": [
        {
          "output_type": "execute_result",
          "data": {
            "text/plain": [
              "nan"
            ]
          },
          "metadata": {},
          "execution_count": 40
        }
      ]
    },
    {
      "cell_type": "code",
      "source": [
        "my_variable = None\n",
        "if my_variable is None:\n",
        "  print(\"변수에 값이 없습니다.\")"
      ],
      "metadata": {
        "id": "nEROviNyKZJT",
        "outputId": "39d0166d-6feb-405b-a110-506303c7091c",
        "colab": {
          "base_uri": "https://localhost:8080/"
        }
      },
      "execution_count": 41,
      "outputs": [
        {
          "output_type": "stream",
          "name": "stdout",
          "text": [
            "변수에 값이 없습니다.\n"
          ]
        }
      ]
    },
    {
      "cell_type": "code",
      "source": [
        "None + 1 # 수치연산 불가"
      ],
      "metadata": {
        "id": "GJC20pl0KgHI",
        "outputId": "48631c84-6f66-4057-d4af-948a12d13b04",
        "colab": {
          "base_uri": "https://localhost:8080/",
          "height": 147
        }
      },
      "execution_count": 42,
      "outputs": [
        {
          "output_type": "error",
          "ename": "TypeError",
          "evalue": "unsupported operand type(s) for +: 'NoneType' and 'int'",
          "traceback": [
            "\u001b[0;31m---------------------------------------------------------------------------\u001b[0m",
            "\u001b[0;31mTypeError\u001b[0m                                 Traceback (most recent call last)",
            "\u001b[0;32m<ipython-input-42-7163e4dc8cbb>\u001b[0m in \u001b[0;36m<cell line: 0>\u001b[0;34m()\u001b[0m\n\u001b[0;32m----> 1\u001b[0;31m \u001b[0;32mNone\u001b[0m \u001b[0;34m+\u001b[0m \u001b[0;36m1\u001b[0m \u001b[0;31m# 수치연산 불가\u001b[0m\u001b[0;34m\u001b[0m\u001b[0;34m\u001b[0m\u001b[0m\n\u001b[0m",
            "\u001b[0;31mTypeError\u001b[0m: unsupported operand type(s) for +: 'NoneType' and 'int'"
          ]
        }
      ]
    },
    {
      "cell_type": "code",
      "source": [
        "a = np.array([20, np.nan, 13, 24, 309])\n",
        "\n",
        "a_filtered = a[~np.isnan(a)]\n",
        "a_filtered"
      ],
      "metadata": {
        "id": "1vYe3NmSKiR2",
        "outputId": "f17745c2-99ab-4742-994a-858965c3b0d6",
        "colab": {
          "base_uri": "https://localhost:8080/"
        }
      },
      "execution_count": 43,
      "outputs": [
        {
          "output_type": "execute_result",
          "data": {
            "text/plain": [
              "array([ 20.,  13.,  24., 309.])"
            ]
          },
          "metadata": {},
          "execution_count": 43
        }
      ]
    },
    {
      "cell_type": "code",
      "source": [
        "str_vec = np.array([\"사과\", \"배\", \"수박\", \"참외\"])\n",
        "str_vec # dtype에서 U2는 최대 2글자의 유니코드 문자열이라는 의미"
      ],
      "metadata": {
        "id": "Zj2C9TA8Kt4w",
        "outputId": "c5b4d00d-bedd-4480-e148-88b6ff6b6de9",
        "colab": {
          "base_uri": "https://localhost:8080/"
        }
      },
      "execution_count": 44,
      "outputs": [
        {
          "output_type": "execute_result",
          "data": {
            "text/plain": [
              "array(['사과', '배', '수박', '참외'], dtype='<U2')"
            ]
          },
          "metadata": {},
          "execution_count": 44
        }
      ]
    },
    {
      "cell_type": "code",
      "source": [
        "mix_vec = np.array([\"사과\", 12, \"수박\", \"참외\"], dtype = str)\n",
        "mix_vec"
      ],
      "metadata": {
        "id": "5UTClKS6K4gu",
        "outputId": "2c1c07c1-f31f-4633-a57e-5fcdecf74088",
        "colab": {
          "base_uri": "https://localhost:8080/"
        }
      },
      "execution_count": 46,
      "outputs": [
        {
          "output_type": "execute_result",
          "data": {
            "text/plain": [
              "array(['사과', '12', '수박', '참외'], dtype='<U2')"
            ]
          },
          "metadata": {},
          "execution_count": 46
        }
      ]
    },
    {
      "cell_type": "code",
      "source": [
        "combined_vec = np.concatenate((str_vec, mix_vec))\n",
        "combined_vec"
      ],
      "metadata": {
        "id": "pYch6e5KLAbr",
        "outputId": "b4083aac-8a4e-47d4-951f-abcfe4464252",
        "colab": {
          "base_uri": "https://localhost:8080/"
        }
      },
      "execution_count": 47,
      "outputs": [
        {
          "output_type": "execute_result",
          "data": {
            "text/plain": [
              "array(['사과', '배', '수박', '참외', '사과', '12', '수박', '참외'], dtype='<U2')"
            ]
          },
          "metadata": {},
          "execution_count": 47
        }
      ]
    },
    {
      "cell_type": "code",
      "source": [
        "col_stacked = np.column_stack((np.arange(1, 5), np.arange(12, 16)))\n",
        "col_stacked"
      ],
      "metadata": {
        "id": "0WCIjFa3LHWw",
        "outputId": "e9ebcb51-95f7-4363-d5aa-5bebe99c077b",
        "colab": {
          "base_uri": "https://localhost:8080/"
        }
      },
      "execution_count": 48,
      "outputs": [
        {
          "output_type": "execute_result",
          "data": {
            "text/plain": [
              "array([[ 1, 12],\n",
              "       [ 2, 13],\n",
              "       [ 3, 14],\n",
              "       [ 4, 15]])"
            ]
          },
          "metadata": {},
          "execution_count": 48
        }
      ]
    },
    {
      "cell_type": "code",
      "source": [
        "row_stacked = np.row_stack((np.arange(1, 5), np.arange(12, 16)))\n",
        "row_stacked"
      ],
      "metadata": {
        "id": "pIdy4Ut1LNSA",
        "outputId": "7359ba6e-8ee1-4091-d233-42035387e9d6",
        "colab": {
          "base_uri": "https://localhost:8080/"
        }
      },
      "execution_count": 49,
      "outputs": [
        {
          "output_type": "stream",
          "name": "stderr",
          "text": [
            "<ipython-input-49-f49bbfa55f45>:1: DeprecationWarning: `row_stack` alias is deprecated. Use `np.vstack` directly.\n",
            "  row_stacked = np.row_stack((np.arange(1, 5), np.arange(12, 16)))\n"
          ]
        },
        {
          "output_type": "execute_result",
          "data": {
            "text/plain": [
              "array([[ 1,  2,  3,  4],\n",
              "       [12, 13, 14, 15]])"
            ]
          },
          "metadata": {},
          "execution_count": 49
        }
      ]
    },
    {
      "cell_type": "code",
      "source": [
        "uneven_stacked = np.column_stack((np.arange(1, 5), np.arange(12, 18)))"
      ],
      "metadata": {
        "id": "i-Etu-EzLTGL",
        "outputId": "75b1be98-a88b-4b7a-e8cd-304643905f02",
        "colab": {
          "base_uri": "https://localhost:8080/",
          "height": 276
        }
      },
      "execution_count": 50,
      "outputs": [
        {
          "output_type": "error",
          "ename": "ValueError",
          "evalue": "all the input array dimensions except for the concatenation axis must match exactly, but along dimension 0, the array at index 0 has size 4 and the array at index 1 has size 6",
          "traceback": [
            "\u001b[0;31m---------------------------------------------------------------------------\u001b[0m",
            "\u001b[0;31mValueError\u001b[0m                                Traceback (most recent call last)",
            "\u001b[0;32m<ipython-input-50-8f08445320e9>\u001b[0m in \u001b[0;36m<cell line: 0>\u001b[0;34m()\u001b[0m\n\u001b[0;32m----> 1\u001b[0;31m \u001b[0muneven_stacked\u001b[0m \u001b[0;34m=\u001b[0m \u001b[0mnp\u001b[0m\u001b[0;34m.\u001b[0m\u001b[0mcolumn_stack\u001b[0m\u001b[0;34m(\u001b[0m\u001b[0;34m(\u001b[0m\u001b[0mnp\u001b[0m\u001b[0;34m.\u001b[0m\u001b[0marange\u001b[0m\u001b[0;34m(\u001b[0m\u001b[0;36m1\u001b[0m\u001b[0;34m,\u001b[0m \u001b[0;36m5\u001b[0m\u001b[0;34m)\u001b[0m\u001b[0;34m,\u001b[0m \u001b[0mnp\u001b[0m\u001b[0;34m.\u001b[0m\u001b[0marange\u001b[0m\u001b[0;34m(\u001b[0m\u001b[0;36m12\u001b[0m\u001b[0;34m,\u001b[0m \u001b[0;36m18\u001b[0m\u001b[0;34m)\u001b[0m\u001b[0;34m)\u001b[0m\u001b[0;34m)\u001b[0m\u001b[0;34m\u001b[0m\u001b[0;34m\u001b[0m\u001b[0m\n\u001b[0m",
            "\u001b[0;32m/usr/local/lib/python3.11/dist-packages/numpy/lib/_shape_base_impl.py\u001b[0m in \u001b[0;36mcolumn_stack\u001b[0;34m(tup)\u001b[0m\n\u001b[1;32m    660\u001b[0m             \u001b[0marr\u001b[0m \u001b[0;34m=\u001b[0m \u001b[0marray\u001b[0m\u001b[0;34m(\u001b[0m\u001b[0marr\u001b[0m\u001b[0;34m,\u001b[0m \u001b[0mcopy\u001b[0m\u001b[0;34m=\u001b[0m\u001b[0;32mNone\u001b[0m\u001b[0;34m,\u001b[0m \u001b[0msubok\u001b[0m\u001b[0;34m=\u001b[0m\u001b[0;32mTrue\u001b[0m\u001b[0;34m,\u001b[0m \u001b[0mndmin\u001b[0m\u001b[0;34m=\u001b[0m\u001b[0;36m2\u001b[0m\u001b[0;34m)\u001b[0m\u001b[0;34m.\u001b[0m\u001b[0mT\u001b[0m\u001b[0;34m\u001b[0m\u001b[0;34m\u001b[0m\u001b[0m\n\u001b[1;32m    661\u001b[0m         \u001b[0marrays\u001b[0m\u001b[0;34m.\u001b[0m\u001b[0mappend\u001b[0m\u001b[0;34m(\u001b[0m\u001b[0marr\u001b[0m\u001b[0;34m)\u001b[0m\u001b[0;34m\u001b[0m\u001b[0;34m\u001b[0m\u001b[0m\n\u001b[0;32m--> 662\u001b[0;31m     \u001b[0;32mreturn\u001b[0m \u001b[0m_nx\u001b[0m\u001b[0;34m.\u001b[0m\u001b[0mconcatenate\u001b[0m\u001b[0;34m(\u001b[0m\u001b[0marrays\u001b[0m\u001b[0;34m,\u001b[0m \u001b[0;36m1\u001b[0m\u001b[0;34m)\u001b[0m\u001b[0;34m\u001b[0m\u001b[0;34m\u001b[0m\u001b[0m\n\u001b[0m\u001b[1;32m    663\u001b[0m \u001b[0;34m\u001b[0m\u001b[0m\n\u001b[1;32m    664\u001b[0m \u001b[0;34m\u001b[0m\u001b[0m\n",
            "\u001b[0;31mValueError\u001b[0m: all the input array dimensions except for the concatenation axis must match exactly, but along dimension 0, the array at index 0 has size 4 and the array at index 1 has size 6"
          ]
        }
      ]
    },
    {
      "cell_type": "code",
      "source": [
        "vec1 = np.arange(1, 5)\n",
        "vec2 = np.arange(12, 18)\n",
        "vec1 = np.resize(vec1, len(vec2))\n",
        "vec1"
      ],
      "metadata": {
        "id": "FT5gYTWALaOi",
        "outputId": "619f9839-d30d-4a01-8445-0f29646d8d7b",
        "colab": {
          "base_uri": "https://localhost:8080/"
        }
      },
      "execution_count": 51,
      "outputs": [
        {
          "output_type": "execute_result",
          "data": {
            "text/plain": [
              "array([1, 2, 3, 4, 1, 2])"
            ]
          },
          "metadata": {},
          "execution_count": 51
        }
      ]
    },
    {
      "cell_type": "code",
      "source": [
        "uneven_stacked = np.column_stack((vec1, vec2))\n",
        "uneven_stacked"
      ],
      "metadata": {
        "id": "Sv6gBQn6Lhzg",
        "outputId": "09d73226-e89b-453c-cddc-b0602003e729",
        "colab": {
          "base_uri": "https://localhost:8080/"
        }
      },
      "execution_count": 52,
      "outputs": [
        {
          "output_type": "execute_result",
          "data": {
            "text/plain": [
              "array([[ 1, 12],\n",
              "       [ 2, 13],\n",
              "       [ 3, 14],\n",
              "       [ 4, 15],\n",
              "       [ 1, 16],\n",
              "       [ 2, 17]])"
            ]
          },
          "metadata": {},
          "execution_count": 52
        }
      ]
    },
    {
      "cell_type": "markdown",
      "source": [
        "### 연습문제"
      ],
      "metadata": {
        "id": "PFgDMIk8LpZb"
      }
    },
    {
      "cell_type": "code",
      "source": [
        "# 1. 주어진 벡터의 각 요소에 5를 더한 새로운 벡터를 생성하시오.\n",
        "a = np.array([1, 2, 3, 4, 5])\n",
        "b = a + 5\n",
        "b"
      ],
      "metadata": {
        "id": "BuYlFNz8LnS4",
        "outputId": "31778047-5ecc-4e8e-952e-ab89d1242903",
        "colab": {
          "base_uri": "https://localhost:8080/"
        }
      },
      "execution_count": 53,
      "outputs": [
        {
          "output_type": "execute_result",
          "data": {
            "text/plain": [
              "array([ 6,  7,  8,  9, 10])"
            ]
          },
          "metadata": {},
          "execution_count": 53
        }
      ]
    },
    {
      "cell_type": "code",
      "source": [
        "# 2. 주어진 벡터의 홀수 번째 요소만 추출하여 새로운 백터를 생성하시오.\n",
        "a = np.array([12, 21, 35, 48, 5])\n",
        "b = a[::2]\n",
        "b"
      ],
      "metadata": {
        "id": "PNjrKHDAL2K0",
        "outputId": "f64fe284-ed74-46ce-ddbc-b763299b8c6b",
        "colab": {
          "base_uri": "https://localhost:8080/"
        }
      },
      "execution_count": 54,
      "outputs": [
        {
          "output_type": "execute_result",
          "data": {
            "text/plain": [
              "array([12, 35,  5])"
            ]
          },
          "metadata": {},
          "execution_count": 54
        }
      ]
    },
    {
      "cell_type": "code",
      "source": [
        "# 3. 주어진 벡터에서 최댓값을 찾으시오.\n",
        "a = np.array([1, 22, 93, 64, 54])\n",
        "np.max(a)"
      ],
      "metadata": {
        "id": "RBfDbQwEMBB1",
        "outputId": "5367c317-2110-4c4e-cabe-1ca86af9b8f3",
        "colab": {
          "base_uri": "https://localhost:8080/"
        }
      },
      "execution_count": 60,
      "outputs": [
        {
          "output_type": "execute_result",
          "data": {
            "text/plain": [
              "np.int64(93)"
            ]
          },
          "metadata": {},
          "execution_count": 60
        }
      ]
    },
    {
      "cell_type": "code",
      "source": [
        "# 4. 주어진 벡터에서 중복된 값을 제거한 새로운 벡터를 생성하시오.\n",
        "a = np.array([1, 2, 3, 2, 4, 5, 4, 6])\n",
        "np.unique(a)"
      ],
      "metadata": {
        "id": "6M_DdkPeMJYk",
        "outputId": "481685a2-cb3a-4430-c413-bc58e5c3a425",
        "colab": {
          "base_uri": "https://localhost:8080/"
        }
      },
      "execution_count": 61,
      "outputs": [
        {
          "output_type": "execute_result",
          "data": {
            "text/plain": [
              "array([1, 2, 3, 4, 5, 6])"
            ]
          },
          "metadata": {},
          "execution_count": 61
        }
      ]
    },
    {
      "cell_type": "code",
      "source": [
        "# 5. 주어진 두 벡터 a, b의 요소를 번갈아 가면서 위치시키는 새로운 벡터를 생성하시오.\n",
        "a = np.array([21, 31, 58])\n",
        "b = np.array([24, 44, 67])\n",
        "c = np.empty(a.size + b.size, dtype = a.dtype)\n",
        "c[0::2] = a\n",
        "c[1::2] = b\n",
        "print(c)"
      ],
      "metadata": {
        "id": "3lbNSENBMcOK",
        "outputId": "c2f18482-f811-4149-9142-90142ea28b06",
        "colab": {
          "base_uri": "https://localhost:8080/"
        }
      },
      "execution_count": 63,
      "outputs": [
        {
          "output_type": "stream",
          "name": "stdout",
          "text": [
            "[21 24 31 44 58 67]\n"
          ]
        }
      ]
    },
    {
      "cell_type": "code",
      "source": [
        "# 6. 다음 두 벡터 a와 b를 더한 결과를 구하시오. (벡터 a의 마지막 값은 제외)\n",
        "a = np.array([1, 2, 3, 4, 5])\n",
        "b = np.array([6, 7, 8, 9])\n",
        "c = a[:-1] + b\n",
        "print(c)"
      ],
      "metadata": {
        "id": "DwW1dcuUMso_",
        "outputId": "112d858c-5637-4a37-9070-922e3ff1bb91",
        "colab": {
          "base_uri": "https://localhost:8080/"
        }
      },
      "execution_count": 64,
      "outputs": [
        {
          "output_type": "stream",
          "name": "stdout",
          "text": [
            "[ 7  9 11 13]\n"
          ]
        }
      ]
    },
    {
      "cell_type": "code",
      "source": [],
      "metadata": {
        "id": "JoEkCxMmM2mH"
      },
      "execution_count": null,
      "outputs": []
    }
  ]
}